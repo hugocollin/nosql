{
 "cells": [
  {
   "cell_type": "markdown",
   "metadata": {},
   "source": [
    "# OrientDB tutorial"
   ]
  },
  {
   "cell_type": "markdown",
   "metadata": {},
   "source": [
    "## Prerequisites"
   ]
  },
  {
   "cell_type": "markdown",
   "metadata": {},
   "source": [
    "### Documentation\n",
    "\n",
    "You will find all documentation for :\n",
    "* [OrientDB SQL reference](http://www.orientdb.com/docs/last/SQL-Functions.html)\n",
    "* [Orientdb python client](http://orientdb.com/docs/last/PyOrient-Client.html#working-with-the-client)"
   ]
  },
  {
   "cell_type": "markdown",
   "metadata": {},
   "source": [
    "## Import libraries"
   ]
  },
  {
   "cell_type": "code",
   "execution_count": 25,
   "metadata": {},
   "outputs": [],
   "source": [
    "import pyorient"
   ]
  },
  {
   "cell_type": "code",
   "execution_count": 26,
   "metadata": {},
   "outputs": [],
   "source": [
    "ROOT_PASSWORD = \"root\"\n",
    "client = pyorient.OrientDB(\"localhost\", 2424)\n",
    "session_id = client.connect(\"root\", ROOT_PASSWORD)"
   ]
  },
  {
   "cell_type": "code",
   "execution_count": 27,
   "metadata": {},
   "outputs": [
    {
     "name": "stdout",
     "output_type": "stream",
     "text": [
      "{{'databases': {}}}\n"
     ]
    }
   ],
   "source": [
    "print(client.db_list())"
   ]
  },
  {
   "cell_type": "markdown",
   "metadata": {},
   "source": [
    "## I. Quick start"
   ]
  },
  {
   "cell_type": "markdown",
   "metadata": {},
   "source": [
    "### Creating the database"
   ]
  },
  {
   "cell_type": "markdown",
   "metadata": {},
   "source": [
    "**Q:** Create a database `gods` as a `GRAPH_DATABASE` in `MEMORY_STORAGE_TYPE`. \n",
    "\n",
    "We will use it to store relationships between Greek deities."
   ]
  },
  {
   "cell_type": "code",
   "execution_count": 28,
   "metadata": {},
   "outputs": [],
   "source": [
    "# Creation d'une base de donnees\n",
    "client.db_create(\"gods\", pyorient.DB_TYPE_GRAPH, pyorient.STORAGE_TYPE_MEMORY)"
   ]
  },
  {
   "cell_type": "markdown",
   "metadata": {},
   "source": [
    "**Q:** Connect your pyorient client to the `gods` database."
   ]
  },
  {
   "cell_type": "code",
   "execution_count": 29,
   "metadata": {},
   "outputs": [
    {
     "data": {
      "text/plain": [
       "[<pyorient.otypes.OrientCluster at 0x2978734e2e8>,\n",
       " <pyorient.otypes.OrientCluster at 0x29787302cc0>,\n",
       " <pyorient.otypes.OrientCluster at 0x29787302cf8>,\n",
       " <pyorient.otypes.OrientCluster at 0x297873572e8>,\n",
       " <pyorient.otypes.OrientCluster at 0x29787357278>,\n",
       " <pyorient.otypes.OrientCluster at 0x297873571d0>,\n",
       " <pyorient.otypes.OrientCluster at 0x297873570f0>,\n",
       " <pyorient.otypes.OrientCluster at 0x29787357390>,\n",
       " <pyorient.otypes.OrientCluster at 0x29787357320>,\n",
       " <pyorient.otypes.OrientCluster at 0x29787357470>,\n",
       " <pyorient.otypes.OrientCluster at 0x29787357400>,\n",
       " <pyorient.otypes.OrientCluster at 0x297873574a8>,\n",
       " <pyorient.otypes.OrientCluster at 0x29787357550>,\n",
       " <pyorient.otypes.OrientCluster at 0x297873574e0>,\n",
       " <pyorient.otypes.OrientCluster at 0x29787357518>,\n",
       " <pyorient.otypes.OrientCluster at 0x297873577b8>,\n",
       " <pyorient.otypes.OrientCluster at 0x297873575f8>,\n",
       " <pyorient.otypes.OrientCluster at 0x29787357668>,\n",
       " <pyorient.otypes.OrientCluster at 0x29787357828>,\n",
       " <pyorient.otypes.OrientCluster at 0x297873576a0>,\n",
       " <pyorient.otypes.OrientCluster at 0x29787357588>,\n",
       " <pyorient.otypes.OrientCluster at 0x297873576d8>,\n",
       " <pyorient.otypes.OrientCluster at 0x29787357630>,\n",
       " <pyorient.otypes.OrientCluster at 0x297873577f0>,\n",
       " <pyorient.otypes.OrientCluster at 0x29787357710>]"
      ]
     },
     "execution_count": 29,
     "metadata": {},
     "output_type": "execute_result"
    }
   ],
   "source": [
    "# Ouverture de la base de donnees\n",
    "client.db_open(\"gods\", \"root\", ROOT_PASSWORD)"
   ]
  },
  {
   "cell_type": "markdown",
   "metadata": {},
   "source": [
    "**Q:** You should now be able to launch OrientDB queries through the Python client with the [command()](http://orientdb.com/docs/last/PyOrient-Client-Command.html) function. \n",
    "\n",
    "You should think of OrientDB as a Graph-Document database for the following questions. Each vertex and edge will contain information on it inside a JSON document.\n",
    "\n",
    "Create a new Vertex with content `{name: 'Zeus', symbol: 'thunder'}`. The [CREATE VERTEX : Create a vertex using JSON content](http://orientdb.com/docs/last/SQL-Create-Vertex.html) doc page should help you."
   ]
  },
  {
   "cell_type": "code",
   "execution_count": 30,
   "metadata": {},
   "outputs": [
    {
     "data": {
      "text/plain": [
       "[<pyorient.otypes.OrientRecord at 0x2978734e898>]"
      ]
     },
     "execution_count": 30,
     "metadata": {},
     "output_type": "execute_result"
    }
   ],
   "source": [
    "# Creation d'un vertex\n",
    "client.command(\"CREATE VERTEX V CONTENT {'name': 'Zeus', 'symbol': 'thunder'}\")"
   ]
  },
  {
   "cell_type": "markdown",
   "metadata": {},
   "source": [
    "You have created a VERTEX in the previous question. The VERTEX is a [class](https://orientdb.com/docs/last/Tutorial-Classes.html) of OrientDB which defines a record that can be linked to others through EDGE instances.\n",
    "\n",
    "You can find all VERTEX created in the database with a SQL command on the `V` table, like `SELECT * FROM V`. \n",
    "\n",
    "**Q:** Print all current vertices in `gods`, it should only have `Zeus` though for now."
   ]
  },
  {
   "cell_type": "code",
   "execution_count": 31,
   "metadata": {},
   "outputs": [
    {
     "name": "stdout",
     "output_type": "stream",
     "text": [
      "{'name': 'Zeus', 'symbol': 'thunder'}\n"
     ]
    }
   ],
   "source": [
    "# Définition de la requête\n",
    "request = client.command(\"SELECT * FROM V\")\n",
    "\n",
    "# Affichage du résultat\n",
    "for vertex in request:\n",
    "    print(vertex.oRecordData)"
   ]
  },
  {
   "cell_type": "markdown",
   "metadata": {},
   "source": [
    "**Q:** Create new vertices with content : \n",
    "```\n",
    "{name:Héra, symbol:tiara}\n",
    "{name:Poséidon, symbol:trident}\n",
    "{name:Athena, symbol:helmet}\n",
    "{name:Arès, symbol:weapons} \n",
    "```"
   ]
  },
  {
   "cell_type": "code",
   "execution_count": 32,
   "metadata": {},
   "outputs": [
    {
     "data": {
      "text/plain": [
       "[<pyorient.otypes.OrientRecord at 0x2978734e710>]"
      ]
     },
     "execution_count": 32,
     "metadata": {},
     "output_type": "execute_result"
    }
   ],
   "source": [
    "# Creation de plusieurs vertices\n",
    "client.command(\"CREATE VERTEX V CONTENT {'name': 'Héra', 'symbol': 'tiara'}\")\n",
    "client.command(\"CREATE VERTEX V CONTENT {'name': 'Poséidon', 'symbol': 'trident'}\")\n",
    "client.command(\"CREATE VERTEX V CONTENT {'name': 'Athena', 'symbol': 'helmet'}\")\n",
    "client.command(\"CREATE VERTEX V CONTENT {'name': 'Arès', 'symbol': 'weapons'}\")"
   ]
  },
  {
   "cell_type": "markdown",
   "metadata": {},
   "source": [
    "**Q:** Display all vertices with name = `Arès`"
   ]
  },
  {
   "cell_type": "code",
   "execution_count": 33,
   "metadata": {},
   "outputs": [
    {
     "name": "stdout",
     "output_type": "stream",
     "text": [
      "{'name': 'Arès', 'symbol': 'weapons'}\n"
     ]
    }
   ],
   "source": [
    "# Définition de la requête\n",
    "request = client.command(\"SELECT FROM V WHERE name = 'Arès'\")\n",
    "\n",
    "# Affichage du résultat\n",
    "for vertex in request:\n",
    "    print(vertex.oRecordData)"
   ]
  },
  {
   "cell_type": "markdown",
   "metadata": {},
   "source": [
    "**Q:** Create an EDGE from `Zeus` to `Poséidon` with the content `{kind: 'sibling'}"
   ]
  },
  {
   "cell_type": "code",
   "execution_count": 34,
   "metadata": {},
   "outputs": [
    {
     "data": {
      "text/plain": [
       "[<pyorient.otypes.OrientRecord at 0x2978734efd0>]"
      ]
     },
     "execution_count": 34,
     "metadata": {},
     "output_type": "execute_result"
    }
   ],
   "source": [
    "# Création d'une relation entre deux vertices\n",
    "client.command(\"CREATE EDGE E FROM (SELECT FROM V WHERE name = 'Zeus') TO (SELECT FROM V WHERE name = 'Poséidon') CONTENT {'kind': 'sibling'}\")"
   ]
  },
  {
   "cell_type": "markdown",
   "metadata": {},
   "source": [
    "**Q:** Redisplay all vertices, discuss."
   ]
  },
  {
   "cell_type": "code",
   "execution_count": 35,
   "metadata": {},
   "outputs": [
    {
     "name": "stdout",
     "output_type": "stream",
     "text": [
      "{'name': 'Zeus', 'symbol': 'thunder', 'out_': <pyorient.otypes.OrientBinaryObject object at 0x0000029787357EB8>}\n",
      "{'name': 'Héra', 'symbol': 'tiara'}\n",
      "{'name': 'Poséidon', 'symbol': 'trident', 'in_': <pyorient.otypes.OrientBinaryObject object at 0x000002978740E198>}\n",
      "{'name': 'Athena', 'symbol': 'helmet'}\n",
      "{'name': 'Arès', 'symbol': 'weapons'}\n"
     ]
    }
   ],
   "source": [
    "# Définition de la requête\n",
    "request = client.command(\"SELECT * FROM V\")\n",
    "\n",
    "# Affichage du résultat\n",
    "for vertex in request:\n",
    "    print(vertex.oRecordData)"
   ]
  },
  {
   "cell_type": "markdown",
   "metadata": {},
   "source": [
    "**Q:** Display all edges. They are contained in the class `E`"
   ]
  },
  {
   "cell_type": "code",
   "execution_count": 36,
   "metadata": {},
   "outputs": [
    {
     "name": "stdout",
     "output_type": "stream",
     "text": [
      "{'kind': 'sibling', 'out': <pyorient.otypes.OrientRecordLink object at 0x000002978740E4A8>, 'in': <pyorient.otypes.OrientRecordLink object at 0x000002978740E550>}\n"
     ]
    }
   ],
   "source": [
    "# Définition de la requête\n",
    "request = client.command(\"SELECT * FROM E\")\n",
    "\n",
    "# Affichage du résultat\n",
    "for edge in request:\n",
    "    print(edge.oRecordData)"
   ]
  },
  {
   "cell_type": "markdown",
   "metadata": {},
   "source": [
    "Two fields on vertices have appeared, containing the outgoing (out_) and incoming (in_) links.\n",
    "\n",
    "At the edge level, two fields point to the original (out) and destination (in) vertices.\n",
    "\n",
    "**Q:** Lets create some more edges :\n",
    "\n",
    "* Zeus > Héra (sibling)\n",
    "* Zeus > Arès (father)\n",
    "* Zeus > Athena (father)\n",
    "* Héra > Arès (mother)\n",
    "* Héra > Zeus (sibling)\n",
    "* Poséidon > Zeus (sibling)\n",
    "\n",
    "_Hint 1 :_ check [the CREATE EDGE doc page](http://orientdb.com/docs/last/SQL-Create-Edge.html) to find an example for creating edges on vertices using subqueries so you can run queries to fetch the vertices before creating an edge in between.\n",
    "\n",
    "_Hint 2 :_ after you have found the command to create edges between vertices with sub-queries, you should be well-versed enough in Python to create a list of all edges in the question, and loop the command on each element of the list to create all edges in one go =)"
   ]
  },
  {
   "cell_type": "code",
   "execution_count": 37,
   "metadata": {},
   "outputs": [],
   "source": [
    "# Création de plusieurs relations\n",
    "edges = [\n",
    "    {'from': 'Zeus', 'to': 'Héra', 'kind': 'sibling'},\n",
    "    {'from': 'Zeus', 'to': 'Arès', 'kind': 'father'},\n",
    "    {'from': 'Zeus', 'to': 'Athena', 'kind': 'father'},\n",
    "    {'from': 'Héra', 'to': 'Arès', 'kind': 'mother'},\n",
    "    {'from': 'Héra', 'to': 'Zeus', 'kind': 'sibling'},\n",
    "    {'from': 'Poséidon', 'to': 'Zeus', 'kind': 'sibling'}\n",
    "]\n",
    "\n",
    "# Application des relations\n",
    "for edge in edges:\n",
    "    client.command(f\"CREATE EDGE E FROM (SELECT FROM V WHERE name = '{edge['from']}') TO (SELECT FROM V WHERE name = '{edge['to']}') CONTENT {{'kind': '{edge['kind']}'}}\")"
   ]
  },
  {
   "cell_type": "markdown",
   "metadata": {},
   "source": [
    "### Looking for data"
   ]
  },
  {
   "cell_type": "markdown",
   "metadata": {},
   "source": [
    "**Q:** Using [out()](http://orientdb.com/docs/last/Tutorial-Working-with-graphs.html#querying-graphs) function, display all vertices connected and outgoing from Zeus.\n",
    "\n",
    "You should use the EXPAND() special function to transform the vertex collection in the result-set by expanding it, making the results more readable."
   ]
  },
  {
   "cell_type": "code",
   "execution_count": 38,
   "metadata": {},
   "outputs": [
    {
     "name": "stdout",
     "output_type": "stream",
     "text": [
      "{'name': 'Poséidon', 'symbol': 'trident', 'in_': <pyorient.otypes.OrientBinaryObject object at 0x000002978740E908>, 'out_': <pyorient.otypes.OrientBinaryObject object at 0x000002978740E828>}\n",
      "{'out_': <pyorient.otypes.OrientBinaryObject object at 0x000002978740EA58>, 'name': 'Héra', 'symbol': 'tiara', 'in_': <pyorient.otypes.OrientBinaryObject object at 0x000002978740EA20>}\n",
      "{'in_': <pyorient.otypes.OrientBinaryObject object at 0x000002978740EC50>, 'name': 'Arès', 'symbol': 'weapons'}\n",
      "{'name': 'Athena', 'symbol': 'helmet', 'in_': <pyorient.otypes.OrientBinaryObject object at 0x000002978740ED30>}\n"
     ]
    }
   ],
   "source": [
    "# Définition de la requête\n",
    "request = client.command(\"SELECT EXPAND(out()) FROM V WHERE name = 'Zeus'\")\n",
    "\n",
    "# Affichage du résultat\n",
    "for vertex in request:\n",
    "    print(vertex.oRecordData)"
   ]
  },
  {
   "cell_type": "markdown",
   "metadata": {},
   "source": [
    "**Q:** Display all vertices which got a father (the vertices which are the destination of an arc whose kind attribute is father).\n",
    "\n",
    "_Hint: You can notice that we use the field `in` the arc, and not the function `in()` which applies to vertices._"
   ]
  },
  {
   "cell_type": "code",
   "execution_count": 39,
   "metadata": {},
   "outputs": [
    {
     "name": "stdout",
     "output_type": "stream",
     "text": [
      "{'name': 'Athena', 'symbol': 'helmet', 'in_': <pyorient.otypes.OrientBinaryObject object at 0x000002978740E438>}\n",
      "{'in_': <pyorient.otypes.OrientBinaryObject object at 0x000002978740EEB8>, 'name': 'Arès', 'symbol': 'weapons'}\n"
     ]
    }
   ],
   "source": [
    "# Définition de la requête\n",
    "query = \"SELECT FROM V WHERE @rid IN (SELECT in FROM E WHERE kind = 'father')\"\n",
    "request = client.command(query)\n",
    "\n",
    "# Affichage du résultat\n",
    "for vertex in request:\n",
    "    print(vertex.oRecordData)"
   ]
  },
  {
   "cell_type": "markdown",
   "metadata": {},
   "source": [
    "**Q:** As in SQL, the operator `in` used in a clause `where` allows to restrict the possible values with an embedded query _(where ... in (select ...))_. \n",
    "\n",
    "Display the mothers, by displaying the vertices where an outgoing arc is part of the arcs where kind is a mother."
   ]
  },
  {
   "cell_type": "code",
   "execution_count": 40,
   "metadata": {},
   "outputs": [
    {
     "name": "stdout",
     "output_type": "stream",
     "text": [
      "{'out_': <pyorient.otypes.OrientBinaryObject object at 0x000002978740ECC0>, 'name': 'Héra', 'symbol': 'tiara', 'in_': <pyorient.otypes.OrientBinaryObject object at 0x000002978740E940>}\n"
     ]
    }
   ],
   "source": [
    "# Définition de la requête\n",
    "query = \"SELECT FROM V WHERE @rid IN (SELECT out FROM E WHERE kind = 'mother')\"\n",
    "request = client.command(query)\n",
    "\n",
    "# Affichage du résultat\n",
    "for vertex in request:\n",
    "    print(vertex.oRecordData)"
   ]
  },
  {
   "cell_type": "markdown",
   "metadata": {},
   "source": [
    "**Q:** Display the brothers and sisters of Zeus (the destination summits of an arc whose kind is sibling and whose original summit is Zeus)."
   ]
  },
  {
   "cell_type": "code",
   "execution_count": 41,
   "metadata": {},
   "outputs": [
    {
     "name": "stdout",
     "output_type": "stream",
     "text": [
      "{'name': 'Poséidon', 'symbol': 'trident', 'in_': <pyorient.otypes.OrientBinaryObject object at 0x000002978740E438>, 'out_': <pyorient.otypes.OrientBinaryObject object at 0x000002978740E4A8>}\n",
      "{'name': 'Héra', 'out_': <pyorient.otypes.OrientBinaryObject object at 0x000002978740E390>, 'symbol': 'tiara', 'in_': <pyorient.otypes.OrientBinaryObject object at 0x000002978740E6D8>}\n"
     ]
    }
   ],
   "source": [
    "# Définition de la requête\n",
    "query = \"SELECT expand(in) from E where out.name like 'Zeus' and kind like 'sibling'\"\n",
    "request = client.command(query)\n",
    "\n",
    "# Affichage du résultat\n",
    "for vertex in request:\n",
    "    print(vertex.oRecordData)"
   ]
  },
  {
   "cell_type": "markdown",
   "metadata": {},
   "source": [
    "## Modeling a Product Recommendation System"
   ]
  },
  {
   "cell_type": "markdown",
   "metadata": {},
   "source": [
    "You are currently modeling the data of a product recommendation system with OrientDB.\n",
    "\n",
    "The main purpose of such a system is to answer the question \"which products were purchased by their people who purchased product X? »\n",
    "\n",
    "Purchased products have only one name field. They are purchased by people who have a nickname.\n",
    "\n",
    "When a person buys a product, the date of purchase is stored. \n",
    "\n",
    "Instead of working with \"anonymous\" vertices and arcs, you will use classes. The `create class` command allows you to create custom classes.\n",
    "\n",
    "The vertex classes must extend V, the arc classes must extend E."
   ]
  },
  {
   "cell_type": "markdown",
   "metadata": {},
   "source": [
    "**Q:** Create an `eCommerce` database, and the necessary classes to model the system.\n",
    "\n",
    "PS : you can view all classes in the database with :\n",
    "\n",
    "```python\n",
    "for name in client.command(\"SELECT name FROM (SELECT expand(classes) FROM metadata:schema)\"):\n",
    "    print(name)\n",
    "```"
   ]
  },
  {
   "cell_type": "code",
   "execution_count": 42,
   "metadata": {},
   "outputs": [
    {
     "name": "stdout",
     "output_type": "stream",
     "text": [
      "{{'name': 'Product'},'version':0,'rid':'#-2:0'}\n",
      "{{'name': 'ORole'},'version':0,'rid':'#-2:1'}\n",
      "{{'name': 'Person'},'version':0,'rid':'#-2:2'}\n",
      "{{'name': 'OIdentity'},'version':0,'rid':'#-2:3'}\n",
      "{{'name': 'E'},'version':0,'rid':'#-2:4'}\n",
      "{{'name': 'V'},'version':0,'rid':'#-2:5'}\n",
      "{{'name': 'ORestricted'},'version':0,'rid':'#-2:6'}\n",
      "{{'name': 'OSchedule'},'version':0,'rid':'#-2:7'}\n",
      "{{'name': 'OFunction'},'version':0,'rid':'#-2:8'}\n",
      "{{'name': 'Purchase'},'version':0,'rid':'#-2:9'}\n",
      "{{'name': 'OSequence'},'version':0,'rid':'#-2:10'}\n",
      "{{'name': 'OUser'},'version':0,'rid':'#-2:11'}\n",
      "{{'name': 'OTriggered'},'version':0,'rid':'#-2:12'}\n"
     ]
    }
   ],
   "source": [
    "# Création de la base de données eCommerce\n",
    "client.db_create(\"eCommerce\", pyorient.DB_TYPE_GRAPH, pyorient.STORAGE_TYPE_MEMORY)\n",
    "\n",
    "# Connexion à la base de données eCommerce\n",
    "client.db_open(\"eCommerce\", \"root\", ROOT_PASSWORD)\n",
    "\n",
    "# Création des classes de vertex\n",
    "client.command(\"CREATE CLASS Person EXTENDS V\")\n",
    "client.command(\"CREATE PROPERTY Person.nickname STRING\")\n",
    "\n",
    "client.command(\"CREATE CLASS Product EXTENDS V\")\n",
    "client.command(\"CREATE PROPERTY Product.name STRING\")\n",
    "\n",
    "# Création des classes d'arêtes\n",
    "client.command(\"CREATE CLASS Purchase EXTENDS E\")\n",
    "client.command(\"CREATE PROPERTY Purchase.date DATE\")\n",
    "\n",
    "# Affichage des classes\n",
    "for name in client.command(\"SELECT name FROM (SELECT expand(classes) FROM metadata:schema)\"):\n",
    "    print(name)"
   ]
  },
  {
   "cell_type": "markdown",
   "metadata": {},
   "source": [
    "**Q:** Create the following products: `spaghetti`, `bolognese sauce`, `cheese`, `apple`."
   ]
  },
  {
   "cell_type": "code",
   "execution_count": 43,
   "metadata": {},
   "outputs": [
    {
     "name": "stdout",
     "output_type": "stream",
     "text": [
      "{'name': 'spaghetti'}\n",
      "{'name': 'bolognese sauce'}\n",
      "{'name': 'cheese'}\n",
      "{'name': 'apple'}\n"
     ]
    }
   ],
   "source": [
    "# Création des produits\n",
    "client.command(\"CREATE VERTEX Product CONTENT {'name': 'spaghetti'}\")\n",
    "client.command(\"CREATE VERTEX Product CONTENT {'name': 'bolognese sauce'}\")\n",
    "client.command(\"CREATE VERTEX Product CONTENT {'name': 'cheese'}\")\n",
    "client.command(\"CREATE VERTEX Product CONTENT {'name': 'apple'}\")\n",
    "\n",
    "# Affichage des produits\n",
    "for product in client.command(\"SELECT * FROM Product\"):\n",
    "    print(product.oRecordData)"
   ]
  },
  {
   "cell_type": "markdown",
   "metadata": {},
   "source": [
    "**Q:** Create the following people: `peter`, `meredith`."
   ]
  },
  {
   "cell_type": "code",
   "execution_count": 44,
   "metadata": {},
   "outputs": [
    {
     "name": "stdout",
     "output_type": "stream",
     "text": [
      "{'nickname': 'peter'}\n",
      "{'nickname': 'meredith'}\n"
     ]
    }
   ],
   "source": [
    "# Création des personnes\n",
    "client.command(\"CREATE VERTEX Person CONTENT {'nickname': 'peter'}\")\n",
    "client.command(\"CREATE VERTEX Person CONTENT {'nickname': 'meredith'}\")\n",
    "\n",
    "# Affichage des personnes\n",
    "for person in client.command(\"SELECT * FROM Person\"):\n",
    "    print(person.oRecordData)"
   ]
  },
  {
   "cell_type": "markdown",
   "metadata": {},
   "source": [
    "**Q:** Create the following purchases: \n",
    "- peter > spaghetti + cheese on 20/01/2016 \n",
    "- meredith > cheese + apple + bolognese sauce on 22/01/2016\n",
    "- peter > spaghetti + bolognese sauce on 27/01/2016\n"
   ]
  },
  {
   "cell_type": "code",
   "execution_count": 45,
   "metadata": {},
   "outputs": [
    {
     "name": "stdout",
     "output_type": "stream",
     "text": [
      "{'date': datetime.date(2016, 1, 20), 'out': <pyorient.otypes.OrientRecordLink object at 0x000002978734EB00>, 'in': <pyorient.otypes.OrientRecordLink object at 0x000002978741BD30>}\n",
      "{'date': datetime.date(2016, 1, 20), 'out': <pyorient.otypes.OrientRecordLink object at 0x000002978741BEB8>, 'in': <pyorient.otypes.OrientRecordLink object at 0x000002978741BF98>}\n",
      "{'date': datetime.date(2016, 1, 22), 'out': <pyorient.otypes.OrientRecordLink object at 0x000002978741D160>, 'in': <pyorient.otypes.OrientRecordLink object at 0x000002978741D240>}\n",
      "{'date': datetime.date(2016, 1, 22), 'out': <pyorient.otypes.OrientRecordLink object at 0x000002978741D3C8>, 'in': <pyorient.otypes.OrientRecordLink object at 0x000002978741D4A8>}\n",
      "{'date': datetime.date(2016, 1, 22), 'out': <pyorient.otypes.OrientRecordLink object at 0x000002978741D630>, 'in': <pyorient.otypes.OrientRecordLink object at 0x000002978741D710>}\n",
      "{'date': datetime.date(2016, 1, 27), 'out': <pyorient.otypes.OrientRecordLink object at 0x000002978741D898>, 'in': <pyorient.otypes.OrientRecordLink object at 0x000002978741D978>}\n",
      "{'date': datetime.date(2016, 1, 27), 'out': <pyorient.otypes.OrientRecordLink object at 0x000002978741DB00>, 'in': <pyorient.otypes.OrientRecordLink object at 0x000002978741DBE0>}\n"
     ]
    }
   ],
   "source": [
    "# Création des achats\n",
    "purchases = [\n",
    "    {'person': 'peter', 'products': ['spaghetti', 'cheese'], 'date': '2016-01-20'},\n",
    "    {'person': 'meredith', 'products': ['cheese', 'apple', 'bolognese sauce'], 'date': '2016-01-22'},\n",
    "    {'person': 'peter', 'products': ['spaghetti', 'bolognese sauce'], 'date': '2016-01-27'}\n",
    "]\n",
    "\n",
    "# Application des achats\n",
    "for purchase in purchases:\n",
    "    person = purchase['person']\n",
    "    products = purchase['products']\n",
    "    date = purchase['date']\n",
    "    for product in products:\n",
    "        client.command(f\"CREATE EDGE Purchase FROM (SELECT FROM Person WHERE nickname = '{person}') TO (SELECT FROM Product WHERE name = '{product}') CONTENT {{'date': '{date}'}}\")\n",
    "\n",
    "# Affichage des achats\n",
    "for purchase in client.command(\"SELECT * FROM Purchase\"):\n",
    "    print(purchase.oRecordData)"
   ]
  },
  {
   "cell_type": "markdown",
   "metadata": {},
   "source": [
    "**Q:** Who bought Bolognese sauce?"
   ]
  },
  {
   "cell_type": "code",
   "execution_count": 46,
   "metadata": {},
   "outputs": [],
   "source": [
    "# Définition de la requête\n",
    "query = \"SELECT FROM Person WHERE @rid IN (SELECT out FROM Purchase WHERE in = (SELECT FROM Product WHERE name = 'bolognese sauce'))\"\n",
    "request = client.command(query)\n",
    "\n",
    "# Affichage du résultat\n",
    "for person in request:\n",
    "    print(person.oRecordData)"
   ]
  },
  {
   "cell_type": "markdown",
   "metadata": {},
   "source": [
    "**Q:** It is possible to link the `out` and `in` navigation functions. What products are purchased with Bolognese sauce? "
   ]
  },
  {
   "cell_type": "code",
   "execution_count": null,
   "metadata": {},
   "outputs": [
    {
     "name": "stdout",
     "output_type": "stream",
     "text": [
      "{'DISTINCT': 'spaghetti'}\n",
      "{'DISTINCT': 'cheese'}\n",
      "{'DISTINCT': 'apple'}\n"
     ]
    }
   ],
   "source": [
    "# Définition de la requête\n",
    "query = \"\"\"\n",
    "SELECT DISTINCT(name) \n",
    "FROM (\n",
    "  SELECT expand(out('Purchase')) AS product\n",
    "  FROM Person\n",
    "  WHERE @rid IN (\n",
    "    SELECT expand(in('Purchase')) \n",
    "    FROM Product \n",
    "    WHERE name = 'bolognese sauce'\n",
    "  )\n",
    ")\n",
    "WHERE name <> 'bolognese sauce'\n",
    "\"\"\"\n",
    "results = client.command(query)\n",
    "\n",
    "# Affichage du résultat\n",
    "for product in results:\n",
    "    print(product.oRecordData)"
   ]
  },
  {
   "cell_type": "markdown",
   "metadata": {},
   "source": [
    "## Postquisites"
   ]
  },
  {
   "cell_type": "markdown",
   "metadata": {},
   "source": [
    "Since we create databases in memory, they get destroyed on server shutdown."
   ]
  }
 ],
 "metadata": {
  "kernelspec": {
   "display_name": "nosql",
   "language": "python",
   "name": "python3"
  },
  "language_info": {
   "codemirror_mode": {
    "name": "ipython",
    "version": 3
   },
   "file_extension": ".py",
   "mimetype": "text/x-python",
   "name": "python",
   "nbconvert_exporter": "python",
   "pygments_lexer": "ipython3",
   "version": "3.7.1"
  }
 },
 "nbformat": 4,
 "nbformat_minor": 2
}
