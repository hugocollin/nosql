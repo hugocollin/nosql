{
 "cells": [
  {
   "cell_type": "markdown",
   "metadata": {},
   "source": [
    "# OrientDB tutorial"
   ]
  },
  {
   "cell_type": "markdown",
   "metadata": {},
   "source": [
    "## Prerequisites"
   ]
  },
  {
   "cell_type": "markdown",
   "metadata": {},
   "source": [
    "### Documentation\n",
    "\n",
    "You will find all documentation for :\n",
    "* [OrientDB SQL reference](http://www.orientdb.com/docs/last/SQL-Functions.html)\n",
    "* [Orientdb python client](http://orientdb.com/docs/last/PyOrient-Client.html#working-with-the-client)"
   ]
  },
  {
   "cell_type": "markdown",
   "metadata": {},
   "source": [
    "## Import libraries"
   ]
  },
  {
   "cell_type": "code",
   "execution_count": 26,
   "metadata": {},
   "outputs": [],
   "source": [
    "import pyorient"
   ]
  },
  {
   "cell_type": "code",
   "execution_count": 27,
   "metadata": {},
   "outputs": [],
   "source": [
    "ROOT_PASSWORD = \"root\"\n",
    "client = pyorient.OrientDB(\"localhost\", 2424)\n",
    "session_id = client.connect(\"root\", ROOT_PASSWORD)"
   ]
  },
  {
   "cell_type": "code",
   "execution_count": 28,
   "metadata": {},
   "outputs": [
    {
     "name": "stdout",
     "output_type": "stream",
     "text": [
      "{{'databases': {'gods': 'memory:gods'}}}\n"
     ]
    }
   ],
   "source": [
    "print(client.db_list())"
   ]
  },
  {
   "cell_type": "markdown",
   "metadata": {},
   "source": [
    "## I. Quick start"
   ]
  },
  {
   "cell_type": "markdown",
   "metadata": {},
   "source": [
    "### Creating the database"
   ]
  },
  {
   "cell_type": "markdown",
   "metadata": {},
   "source": [
    "**Q:** Create a database `gods` as a `GRAPH_DATABASE` in `MEMORY_STORAGE_TYPE`. \n",
    "\n",
    "We will use it to store relationships between Greek deities."
   ]
  },
  {
   "cell_type": "code",
   "execution_count": 29,
   "metadata": {},
   "outputs": [
    {
     "ename": "PyOrientDatabaseException",
     "evalue": "com.orientechnologies.orient.core.exception.ODatabaseException - Database named 'gods' already exists: gods",
     "output_type": "error",
     "traceback": [
      "\u001b[1;31m---------------------------------------------------------------------------\u001b[0m",
      "\u001b[1;31mPyOrientDatabaseException\u001b[0m                 Traceback (most recent call last)",
      "\u001b[1;32m~\\AppData\\Local\\Temp\\ipykernel_16008\\973610489.py\u001b[0m in \u001b[0;36m<module>\u001b[1;34m\u001b[0m\n\u001b[0;32m      1\u001b[0m \u001b[1;31m# Creation d'une base de donnees\u001b[0m\u001b[1;33m\u001b[0m\u001b[1;33m\u001b[0m\u001b[1;33m\u001b[0m\u001b[0m\n\u001b[1;32m----> 2\u001b[1;33m \u001b[0mclient\u001b[0m\u001b[1;33m.\u001b[0m\u001b[0mdb_create\u001b[0m\u001b[1;33m(\u001b[0m\u001b[1;34m\"gods\"\u001b[0m\u001b[1;33m,\u001b[0m \u001b[0mpyorient\u001b[0m\u001b[1;33m.\u001b[0m\u001b[0mDB_TYPE_GRAPH\u001b[0m\u001b[1;33m,\u001b[0m \u001b[0mpyorient\u001b[0m\u001b[1;33m.\u001b[0m\u001b[0mSTORAGE_TYPE_MEMORY\u001b[0m\u001b[1;33m)\u001b[0m\u001b[1;33m\u001b[0m\u001b[1;33m\u001b[0m\u001b[0m\n\u001b[0m",
      "\u001b[1;32mc:\\Users\\hugoc\\anaconda3\\envs\\nosql\\lib\\site-packages\\pyorient\\orient.py\u001b[0m in \u001b[0;36mdb_create\u001b[1;34m(self, name, type, storage)\u001b[0m\n\u001b[0;32m    362\u001b[0m         '''\n\u001b[0;32m    363\u001b[0m         \u001b[0mself\u001b[0m\u001b[1;33m.\u001b[0m\u001b[0mget_message\u001b[0m\u001b[1;33m(\u001b[0m\u001b[1;34m\"DbCreateMessage\"\u001b[0m\u001b[1;33m)\u001b[0m\u001b[0;31m \u001b[0m\u001b[0;31m\\\u001b[0m\u001b[1;33m\u001b[0m\u001b[1;33m\u001b[0m\u001b[0m\n\u001b[1;32m--> 364\u001b[1;33m             \u001b[1;33m.\u001b[0m\u001b[0mprepare\u001b[0m\u001b[1;33m(\u001b[0m\u001b[1;33m(\u001b[0m\u001b[0mname\u001b[0m\u001b[1;33m,\u001b[0m \u001b[0mtype\u001b[0m\u001b[1;33m,\u001b[0m \u001b[0mstorage\u001b[0m\u001b[1;33m)\u001b[0m\u001b[1;33m)\u001b[0m\u001b[1;33m.\u001b[0m\u001b[0msend\u001b[0m\u001b[1;33m(\u001b[0m\u001b[1;33m)\u001b[0m\u001b[1;33m.\u001b[0m\u001b[0mfetch_response\u001b[0m\u001b[1;33m(\u001b[0m\u001b[1;33m)\u001b[0m\u001b[1;33m\u001b[0m\u001b[1;33m\u001b[0m\u001b[0m\n\u001b[0m\u001b[0;32m    365\u001b[0m         \u001b[1;32mreturn\u001b[0m \u001b[1;32mNone\u001b[0m\u001b[1;33m\u001b[0m\u001b[1;33m\u001b[0m\u001b[0m\n\u001b[0;32m    366\u001b[0m \u001b[1;33m\u001b[0m\u001b[0m\n",
      "\u001b[1;32mc:\\Users\\hugoc\\anaconda3\\envs\\nosql\\lib\\site-packages\\pyorient\\messages\\database.py\u001b[0m in \u001b[0;36mfetch_response\u001b[1;34m(self)\u001b[0m\n\u001b[0;32m    335\u001b[0m \u001b[1;33m\u001b[0m\u001b[0m\n\u001b[0;32m    336\u001b[0m     \u001b[1;32mdef\u001b[0m \u001b[0mfetch_response\u001b[0m\u001b[1;33m(\u001b[0m\u001b[0mself\u001b[0m\u001b[1;33m)\u001b[0m\u001b[1;33m:\u001b[0m\u001b[1;33m\u001b[0m\u001b[1;33m\u001b[0m\u001b[0m\n\u001b[1;32m--> 337\u001b[1;33m         \u001b[0msuper\u001b[0m\u001b[1;33m(\u001b[0m\u001b[0mDbCreateMessage\u001b[0m\u001b[1;33m,\u001b[0m \u001b[0mself\u001b[0m\u001b[1;33m)\u001b[0m\u001b[1;33m.\u001b[0m\u001b[0mfetch_response\u001b[0m\u001b[1;33m(\u001b[0m\u001b[1;33m)\u001b[0m\u001b[1;33m\u001b[0m\u001b[1;33m\u001b[0m\u001b[0m\n\u001b[0m\u001b[0;32m    338\u001b[0m         \u001b[1;31m# set database opened\u001b[0m\u001b[1;33m\u001b[0m\u001b[1;33m\u001b[0m\u001b[1;33m\u001b[0m\u001b[0m\n\u001b[0;32m    339\u001b[0m         \u001b[0mself\u001b[0m\u001b[1;33m.\u001b[0m\u001b[0m_orientSocket\u001b[0m\u001b[1;33m.\u001b[0m\u001b[0mdb_opened\u001b[0m \u001b[1;33m=\u001b[0m \u001b[0mself\u001b[0m\u001b[1;33m.\u001b[0m\u001b[0m_db_name\u001b[0m\u001b[1;33m\u001b[0m\u001b[1;33m\u001b[0m\u001b[0m\n",
      "\u001b[1;32mc:\\Users\\hugoc\\anaconda3\\envs\\nosql\\lib\\site-packages\\pyorient\\messages\\base.py\u001b[0m in \u001b[0;36mfetch_response\u001b[1;34m(self, *_continue)\u001b[0m\n\u001b[0;32m    263\u001b[0m         \u001b[1;31m# already fetched, get last results as cache info\u001b[0m\u001b[1;33m\u001b[0m\u001b[1;33m\u001b[0m\u001b[1;33m\u001b[0m\u001b[0m\n\u001b[0;32m    264\u001b[0m         \u001b[1;32melif\u001b[0m \u001b[0mlen\u001b[0m\u001b[1;33m(\u001b[0m\u001b[0mself\u001b[0m\u001b[1;33m.\u001b[0m\u001b[0m_body\u001b[0m\u001b[1;33m)\u001b[0m \u001b[1;32mis\u001b[0m \u001b[1;36m0\u001b[0m\u001b[1;33m:\u001b[0m\u001b[1;33m\u001b[0m\u001b[1;33m\u001b[0m\u001b[0m\n\u001b[1;32m--> 265\u001b[1;33m             \u001b[0mself\u001b[0m\u001b[1;33m.\u001b[0m\u001b[0m_decode_all\u001b[0m\u001b[1;33m(\u001b[0m\u001b[1;33m)\u001b[0m\u001b[1;33m\u001b[0m\u001b[1;33m\u001b[0m\u001b[0m\n\u001b[0m\u001b[0;32m    266\u001b[0m             \u001b[0mself\u001b[0m\u001b[1;33m.\u001b[0m\u001b[0mdump_streams\u001b[0m\u001b[1;33m(\u001b[0m\u001b[1;33m)\u001b[0m\u001b[1;33m\u001b[0m\u001b[1;33m\u001b[0m\u001b[0m\n\u001b[0;32m    267\u001b[0m         \u001b[1;32mreturn\u001b[0m \u001b[0mself\u001b[0m\u001b[1;33m.\u001b[0m\u001b[0m_body\u001b[0m\u001b[1;33m\u001b[0m\u001b[1;33m\u001b[0m\u001b[0m\n",
      "\u001b[1;32mc:\\Users\\hugoc\\anaconda3\\envs\\nosql\\lib\\site-packages\\pyorient\\messages\\base.py\u001b[0m in \u001b[0;36m_decode_all\u001b[1;34m(self)\u001b[0m\n\u001b[0;32m    247\u001b[0m \u001b[1;33m\u001b[0m\u001b[0m\n\u001b[0;32m    248\u001b[0m     \u001b[1;32mdef\u001b[0m \u001b[0m_decode_all\u001b[0m\u001b[1;33m(\u001b[0m\u001b[0mself\u001b[0m\u001b[1;33m)\u001b[0m\u001b[1;33m:\u001b[0m\u001b[1;33m\u001b[0m\u001b[1;33m\u001b[0m\u001b[0m\n\u001b[1;32m--> 249\u001b[1;33m         \u001b[0mself\u001b[0m\u001b[1;33m.\u001b[0m\u001b[0m_decode_header\u001b[0m\u001b[1;33m(\u001b[0m\u001b[1;33m)\u001b[0m\u001b[1;33m\u001b[0m\u001b[1;33m\u001b[0m\u001b[0m\n\u001b[0m\u001b[0;32m    250\u001b[0m         \u001b[0mself\u001b[0m\u001b[1;33m.\u001b[0m\u001b[0m_decode_body\u001b[0m\u001b[1;33m(\u001b[0m\u001b[1;33m)\u001b[0m\u001b[1;33m\u001b[0m\u001b[1;33m\u001b[0m\u001b[0m\n\u001b[0;32m    251\u001b[0m \u001b[1;33m\u001b[0m\u001b[0m\n",
      "\u001b[1;32mc:\\Users\\hugoc\\anaconda3\\envs\\nosql\\lib\\site-packages\\pyorient\\messages\\base.py\u001b[0m in \u001b[0;36m_decode_header\u001b[1;34m(self)\u001b[0m\n\u001b[0;32m    180\u001b[0m             raise PyOrientCommandException(\n\u001b[0;32m    181\u001b[0m                 \u001b[0mexception_class\u001b[0m\u001b[1;33m.\u001b[0m\u001b[0mdecode\u001b[0m\u001b[1;33m(\u001b[0m \u001b[1;34m'utf8'\u001b[0m \u001b[1;33m)\u001b[0m\u001b[1;33m,\u001b[0m\u001b[1;33m\u001b[0m\u001b[1;33m\u001b[0m\u001b[0m\n\u001b[1;32m--> 182\u001b[1;33m                 \u001b[1;33m[\u001b[0m \u001b[0mexception_message\u001b[0m\u001b[1;33m.\u001b[0m\u001b[0mdecode\u001b[0m\u001b[1;33m(\u001b[0m \u001b[1;34m'utf8'\u001b[0m \u001b[1;33m)\u001b[0m \u001b[1;33m]\u001b[0m\u001b[1;33m\u001b[0m\u001b[1;33m\u001b[0m\u001b[0m\n\u001b[0m\u001b[0;32m    183\u001b[0m             )\n\u001b[0;32m    184\u001b[0m \u001b[1;33m\u001b[0m\u001b[0m\n",
      "\u001b[1;31mPyOrientDatabaseException\u001b[0m: com.orientechnologies.orient.core.exception.ODatabaseException - Database named 'gods' already exists: gods"
     ]
    }
   ],
   "source": [
    "# Creation d'une base de donnees\n",
    "client.db_create(\"gods\", pyorient.DB_TYPE_GRAPH, pyorient.STORAGE_TYPE_MEMORY)"
   ]
  },
  {
   "cell_type": "markdown",
   "metadata": {},
   "source": [
    "**Q:** Connect your pyorient client to the `gods` database."
   ]
  },
  {
   "cell_type": "code",
   "execution_count": 30,
   "metadata": {},
   "outputs": [
    {
     "data": {
      "text/plain": [
       "[<pyorient.otypes.OrientCluster at 0x27a0b8ef1d0>,\n",
       " <pyorient.otypes.OrientCluster at 0x27a0cb652b0>,\n",
       " <pyorient.otypes.OrientCluster at 0x27a0cb655f8>,\n",
       " <pyorient.otypes.OrientCluster at 0x27a0cb5c048>,\n",
       " <pyorient.otypes.OrientCluster at 0x27a0cb5c550>,\n",
       " <pyorient.otypes.OrientCluster at 0x27a0cb5c438>,\n",
       " <pyorient.otypes.OrientCluster at 0x27a0cb5c710>,\n",
       " <pyorient.otypes.OrientCluster at 0x27a0cb5c518>,\n",
       " <pyorient.otypes.OrientCluster at 0x27a0cb5c0b8>,\n",
       " <pyorient.otypes.OrientCluster at 0x27a0cb5c160>,\n",
       " <pyorient.otypes.OrientCluster at 0x27a0cb5c400>,\n",
       " <pyorient.otypes.OrientCluster at 0x27a0cb5c128>,\n",
       " <pyorient.otypes.OrientCluster at 0x27a0cb5c198>,\n",
       " <pyorient.otypes.OrientCluster at 0x27a0cb5c358>,\n",
       " <pyorient.otypes.OrientCluster at 0x27a0cb5c2b0>,\n",
       " <pyorient.otypes.OrientCluster at 0x27a0cb5c0f0>,\n",
       " <pyorient.otypes.OrientCluster at 0x27a0cb5c240>,\n",
       " <pyorient.otypes.OrientCluster at 0x27a0cb5c470>,\n",
       " <pyorient.otypes.OrientCluster at 0x27a0cb5c6a0>,\n",
       " <pyorient.otypes.OrientCluster at 0x27a0cb5cb00>,\n",
       " <pyorient.otypes.OrientCluster at 0x27a0cb5cb70>,\n",
       " <pyorient.otypes.OrientCluster at 0x27a0cb5cb38>,\n",
       " <pyorient.otypes.OrientCluster at 0x27a0cb5cba8>,\n",
       " <pyorient.otypes.OrientCluster at 0x27a0cb5c278>,\n",
       " <pyorient.otypes.OrientCluster at 0x27a0cb5c780>]"
      ]
     },
     "execution_count": 30,
     "metadata": {},
     "output_type": "execute_result"
    }
   ],
   "source": [
    "# Ouverture de la base de donnees\n",
    "client.db_open(\"gods\", \"root\", ROOT_PASSWORD)"
   ]
  },
  {
   "cell_type": "markdown",
   "metadata": {},
   "source": [
    "**Q:** You should now be able to launch OrientDB queries through the Python client with the [command()](http://orientdb.com/docs/last/PyOrient-Client-Command.html) function. \n",
    "\n",
    "You should think of OrientDB as a Graph-Document database for the following questions. Each vertex and edge will contain information on it inside a JSON document.\n",
    "\n",
    "Create a new Vertex with content `{name: 'Zeus', symbol: 'thunder'}`. The [CREATE VERTEX : Create a vertex using JSON content](http://orientdb.com/docs/last/SQL-Create-Vertex.html) doc page should help you."
   ]
  },
  {
   "cell_type": "code",
   "execution_count": 31,
   "metadata": {},
   "outputs": [
    {
     "data": {
      "text/plain": [
       "[<pyorient.otypes.OrientRecord at 0x27a0cb65390>]"
      ]
     },
     "execution_count": 31,
     "metadata": {},
     "output_type": "execute_result"
    }
   ],
   "source": [
    "# Creation d'un vertex\n",
    "client.command(\"CREATE VERTEX V CONTENT {'name': 'Zeus', 'symbol': 'thunder'}\")"
   ]
  },
  {
   "cell_type": "markdown",
   "metadata": {},
   "source": [
    "You have created a VERTEX in the previous question. The VERTEX is a [class](https://orientdb.com/docs/last/Tutorial-Classes.html) of OrientDB which defines a record that can be linked to others through EDGE instances.\n",
    "\n",
    "You can find all VERTEX created in the database with a SQL command on the `V` table, like `SELECT * FROM V`. \n",
    "\n",
    "**Q:** Print all current vertices in `gods`, it should only have `Zeus` though for now."
   ]
  },
  {
   "cell_type": "code",
   "execution_count": 32,
   "metadata": {},
   "outputs": [
    {
     "name": "stdout",
     "output_type": "stream",
     "text": [
      "{'in_': <pyorient.otypes.OrientBinaryObject object at 0x0000027A0CB5C390>, 'out_': <pyorient.otypes.OrientBinaryObject object at 0x0000027A0CB5CE80>, 'name': 'Zeus', 'symbol': 'thunder'}\n",
      "{'out_': <pyorient.otypes.OrientBinaryObject object at 0x0000027A0CB5CF98>, 'name': 'Héra', 'symbol': 'tiara', 'in_': <pyorient.otypes.OrientBinaryObject object at 0x0000027A0CB5CD30>}\n",
      "{'name': 'Poséidon', 'symbol': 'trident', 'in_': <pyorient.otypes.OrientBinaryObject object at 0x0000027A0CB1AD30>, 'out_': <pyorient.otypes.OrientBinaryObject object at 0x0000027A0CB1ABA8>}\n",
      "{'name': 'Athena', 'symbol': 'helmet', 'in_': <pyorient.otypes.OrientBinaryObject object at 0x0000027A0CB1AB38>}\n",
      "{'in_': <pyorient.otypes.OrientBinaryObject object at 0x0000027A0CB1AA90>, 'name': 'Arès', 'symbol': 'weapons'}\n",
      "{'name': 'Zeus', 'symbol': 'thunder'}\n"
     ]
    }
   ],
   "source": [
    "# Définition de la requête\n",
    "request = client.command(\"SELECT * FROM V\")\n",
    "\n",
    "# Affichage du résultat\n",
    "for vertex in request:\n",
    "    print(vertex.oRecordData)"
   ]
  },
  {
   "cell_type": "markdown",
   "metadata": {},
   "source": [
    "**Q:** Create new vertices with content : \n",
    "```\n",
    "{name:Héra, symbol:tiara}\n",
    "{name:Poséidon, symbol:trident}\n",
    "{name:Athena, symbol:helmet}\n",
    "{name:Arès, symbol:weapons} \n",
    "```"
   ]
  },
  {
   "cell_type": "code",
   "execution_count": 33,
   "metadata": {},
   "outputs": [
    {
     "data": {
      "text/plain": [
       "[<pyorient.otypes.OrientRecord at 0x27a0ca19f28>]"
      ]
     },
     "execution_count": 33,
     "metadata": {},
     "output_type": "execute_result"
    }
   ],
   "source": [
    "# Creation de plusieurs vertices\n",
    "client.command(\"CREATE VERTEX V CONTENT {'name': 'Héra', 'symbol': 'tiara'}\")\n",
    "client.command(\"CREATE VERTEX V CONTENT {'name': 'Poséidon', 'symbol': 'trident'}\")\n",
    "client.command(\"CREATE VERTEX V CONTENT {'name': 'Athena', 'symbol': 'helmet'}\")\n",
    "client.command(\"CREATE VERTEX V CONTENT {'name': 'Arès', 'symbol': 'weapons'}\")"
   ]
  },
  {
   "cell_type": "markdown",
   "metadata": {},
   "source": [
    "**Q:** Display all vertices with name = `Arès`"
   ]
  },
  {
   "cell_type": "code",
   "execution_count": 34,
   "metadata": {},
   "outputs": [
    {
     "name": "stdout",
     "output_type": "stream",
     "text": [
      "{'name': 'Arès', 'symbol': 'weapons'}\n",
      "{'in_': <pyorient.otypes.OrientBinaryObject object at 0x0000027A0CB13C88>, 'name': 'Arès', 'symbol': 'weapons'}\n"
     ]
    }
   ],
   "source": [
    "# Définition de la requête\n",
    "request = client.command(\"SELECT FROM V WHERE name = 'Arès'\")\n",
    "\n",
    "# Affichage du résultat\n",
    "for vertex in request:\n",
    "    print(vertex.oRecordData)"
   ]
  },
  {
   "cell_type": "markdown",
   "metadata": {},
   "source": [
    "**Q:** Create an EDGE from `Zeus` to `Poséidon` with the content `{kind: 'sibling'}"
   ]
  },
  {
   "cell_type": "code",
   "execution_count": 35,
   "metadata": {},
   "outputs": [
    {
     "data": {
      "text/plain": [
       "[<pyorient.otypes.OrientRecord at 0x27a0cb65438>,\n",
       " <pyorient.otypes.OrientRecord at 0x27a0cb5ccf8>,\n",
       " <pyorient.otypes.OrientRecord at 0x27a0cb1a358>,\n",
       " <pyorient.otypes.OrientRecord at 0x27a0cb1ada0>]"
      ]
     },
     "execution_count": 35,
     "metadata": {},
     "output_type": "execute_result"
    }
   ],
   "source": [
    "# Création d'une relation entre deux vertices\n",
    "client.command(\"CREATE EDGE E FROM (SELECT FROM V WHERE name = 'Zeus') TO (SELECT FROM V WHERE name = 'Poséidon') CONTENT {'kind': 'sibling'}\")"
   ]
  },
  {
   "cell_type": "markdown",
   "metadata": {},
   "source": [
    "**Q:** Redisplay all vertices, discuss."
   ]
  },
  {
   "cell_type": "code",
   "execution_count": 36,
   "metadata": {},
   "outputs": [
    {
     "name": "stdout",
     "output_type": "stream",
     "text": [
      "{'out_': <pyorient.otypes.OrientBinaryObject object at 0x0000027A0CB65748>, 'in_': <pyorient.otypes.OrientBinaryObject object at 0x0000027A0CAE5748>, 'name': 'Zeus', 'symbol': 'thunder'}\n",
      "{'name': 'Athena', 'symbol': 'helmet'}\n",
      "{'out_': <pyorient.otypes.OrientBinaryObject object at 0x0000027A0CB304E0>, 'name': 'Héra', 'symbol': 'tiara', 'in_': <pyorient.otypes.OrientBinaryObject object at 0x0000027A0CB305F8>}\n",
      "{'name': 'Arès', 'symbol': 'weapons'}\n",
      "{'in_': <pyorient.otypes.OrientBinaryObject object at 0x0000027A0CB307F0>, 'name': 'Poséidon', 'symbol': 'trident', 'out_': <pyorient.otypes.OrientBinaryObject object at 0x0000027A0CB30908>}\n",
      "{'name': 'Athena', 'symbol': 'helmet', 'in_': <pyorient.otypes.OrientBinaryObject object at 0x0000027A0CB30AC8>}\n",
      "{'in_': <pyorient.otypes.OrientBinaryObject object at 0x0000027A0CB30BA8>, 'name': 'Arès', 'symbol': 'weapons'}\n",
      "{'name': 'Zeus', 'symbol': 'thunder', 'out_': <pyorient.otypes.OrientBinaryObject object at 0x0000027A0CB30E10>}\n",
      "{'name': 'Héra', 'symbol': 'tiara'}\n",
      "{'name': 'Poséidon', 'symbol': 'trident', 'in_': <pyorient.otypes.OrientBinaryObject object at 0x0000027A0CB6C0F0>}\n"
     ]
    }
   ],
   "source": [
    "# Définition de la requête\n",
    "request = client.command(\"SELECT * FROM V\")\n",
    "\n",
    "# Affichage du résultat\n",
    "for vertex in request:\n",
    "    print(vertex.oRecordData)"
   ]
  },
  {
   "cell_type": "markdown",
   "metadata": {},
   "source": [
    "**Q:** Display all edges. They are contained in the class `E`"
   ]
  },
  {
   "cell_type": "code",
   "execution_count": 37,
   "metadata": {},
   "outputs": [
    {
     "name": "stdout",
     "output_type": "stream",
     "text": [
      "{'kind': 'sibling', 'out': <pyorient.otypes.OrientRecordLink object at 0x0000027A0CB13B00>, 'in': <pyorient.otypes.OrientRecordLink object at 0x0000027A0CB13F28>}\n",
      "{'kind': 'sibling', 'out': <pyorient.otypes.OrientRecordLink object at 0x0000027A0CB6C2B0>, 'in': <pyorient.otypes.OrientRecordLink object at 0x0000027A0CB6C390>}\n",
      "{'kind': 'sibling', 'out': <pyorient.otypes.OrientRecordLink object at 0x0000027A0CB6C550>, 'in': <pyorient.otypes.OrientRecordLink object at 0x0000027A0CB6C5F8>}\n",
      "{'kind': 'sibling', 'out': <pyorient.otypes.OrientRecordLink object at 0x0000027A0CB6C7B8>, 'in': <pyorient.otypes.OrientRecordLink object at 0x0000027A0CB6C860>}\n",
      "{'kind': 'father', 'out': <pyorient.otypes.OrientRecordLink object at 0x0000027A0CB6CA20>, 'in': <pyorient.otypes.OrientRecordLink object at 0x0000027A0CB6CAC8>}\n",
      "{'kind': 'sibling', 'out': <pyorient.otypes.OrientRecordLink object at 0x0000027A0CB6CC88>, 'in': <pyorient.otypes.OrientRecordLink object at 0x0000027A0CB6CD30>}\n",
      "{'kind': 'father', 'out': <pyorient.otypes.OrientRecordLink object at 0x0000027A0CB6CEF0>, 'in': <pyorient.otypes.OrientRecordLink object at 0x0000027A0CB6CF98>}\n",
      "{'kind': 'mother', 'out': <pyorient.otypes.OrientRecordLink object at 0x0000027A0CB35198>, 'in': <pyorient.otypes.OrientRecordLink object at 0x0000027A0CB35278>}\n",
      "{'kind': 'sibling', 'out': <pyorient.otypes.OrientRecordLink object at 0x0000027A0CB35438>, 'in': <pyorient.otypes.OrientRecordLink object at 0x0000027A0CB35518>}\n",
      "{'kind': 'sibling', 'out': <pyorient.otypes.OrientRecordLink object at 0x0000027A0CB356A0>, 'in': <pyorient.otypes.OrientRecordLink object at 0x0000027A0CB35780>}\n",
      "{'kind': 'sibling', 'out': <pyorient.otypes.OrientRecordLink object at 0x0000027A0CB35908>, 'in': <pyorient.otypes.OrientRecordLink object at 0x0000027A0CB359E8>}\n"
     ]
    }
   ],
   "source": [
    "# Définition de la requête\n",
    "request = client.command(\"SELECT * FROM E\")\n",
    "\n",
    "# Affichage du résultat\n",
    "for edge in request:\n",
    "    print(edge.oRecordData)"
   ]
  },
  {
   "cell_type": "markdown",
   "metadata": {},
   "source": [
    "Two fields on vertices have appeared, containing the outgoing (out_) and incoming (in_) links.\n",
    "\n",
    "At the edge level, two fields point to the original (out) and destination (in) vertices.\n",
    "\n",
    "**Q:** Lets create some more edges :\n",
    "\n",
    "* Zeus > Héra (sibling)\n",
    "* Zeus > Arès (father)\n",
    "* Zeus > Athena (father)\n",
    "* Héra > Arès (mother)\n",
    "* Héra > Zeus (sibling)\n",
    "* Poséidon > Zeus (sibling)\n",
    "\n",
    "_Hint 1 :_ check [the CREATE EDGE doc page](http://orientdb.com/docs/last/SQL-Create-Edge.html) to find an example for creating edges on vertices using subqueries so you can run queries to fetch the vertices before creating an edge in between.\n",
    "\n",
    "_Hint 2 :_ after you have found the command to create edges between vertices with sub-queries, you should be well-versed enough in Python to create a list of all edges in the question, and loop the command on each element of the list to create all edges in one go =)"
   ]
  },
  {
   "cell_type": "code",
   "execution_count": 38,
   "metadata": {},
   "outputs": [],
   "source": [
    "# Création de plusieurs relations\n",
    "edges = [\n",
    "    {'from': 'Zeus', 'to': 'Héra', 'kind': 'sibling'},\n",
    "    {'from': 'Zeus', 'to': 'Arès', 'kind': 'father'},\n",
    "    {'from': 'Zeus', 'to': 'Athena', 'kind': 'father'},\n",
    "    {'from': 'Héra', 'to': 'Arès', 'kind': 'mother'},\n",
    "    {'from': 'Héra', 'to': 'Zeus', 'kind': 'sibling'},\n",
    "    {'from': 'Poséidon', 'to': 'Zeus', 'kind': 'sibling'}\n",
    "]\n",
    "\n",
    "# Application des relations\n",
    "for edge in edges:\n",
    "    client.command(f\"CREATE EDGE E FROM (SELECT FROM V WHERE name = '{edge['from']}') TO (SELECT FROM V WHERE name = '{edge['to']}') CONTENT {{'kind': '{edge['kind']}'}}\")"
   ]
  },
  {
   "cell_type": "markdown",
   "metadata": {},
   "source": [
    "### Looking for data"
   ]
  },
  {
   "cell_type": "markdown",
   "metadata": {},
   "source": [
    "**Q:** Using [out()](http://orientdb.com/docs/last/Tutorial-Working-with-graphs.html#querying-graphs) function, display all vertices connected and outgoing from Zeus.\n",
    "\n",
    "You should use the EXPAND() special function to transform the vertex collection in the result-set by expanding it, making the results more readable."
   ]
  },
  {
   "cell_type": "code",
   "execution_count": 39,
   "metadata": {},
   "outputs": [
    {
     "name": "stdout",
     "output_type": "stream",
     "text": [
      "{'out_': <pyorient.otypes.OrientBinaryObject object at 0x0000027A0CB307B8>, 'in_': <pyorient.otypes.OrientBinaryObject object at 0x0000027A0CB30048>, 'name': 'Poséidon', 'symbol': 'trident'}\n",
      "{'out_': <pyorient.otypes.OrientBinaryObject object at 0x0000027A0CB30DA0>, 'in_': <pyorient.otypes.OrientBinaryObject object at 0x0000027A0CB30E48>, 'name': 'Héra', 'symbol': 'tiara'}\n",
      "{'in_': <pyorient.otypes.OrientBinaryObject object at 0x0000027A0CB30CF8>, 'name': 'Arès', 'symbol': 'weapons'}\n",
      "{'in_': <pyorient.otypes.OrientBinaryObject object at 0x0000027A0CB30E80>, 'name': 'Athena', 'symbol': 'helmet'}\n",
      "{'name': 'Poséidon', 'symbol': 'trident', 'in_': <pyorient.otypes.OrientBinaryObject object at 0x0000027A0CB306A0>, 'out_': <pyorient.otypes.OrientBinaryObject object at 0x0000027A0CB35AC8>}\n",
      "{'out_': <pyorient.otypes.OrientBinaryObject object at 0x0000027A0CB35C18>, 'in_': <pyorient.otypes.OrientBinaryObject object at 0x0000027A0CB35C88>, 'name': 'Poséidon', 'symbol': 'trident'}\n",
      "{'out_': <pyorient.otypes.OrientBinaryObject object at 0x0000027A0CB35E48>, 'name': 'Héra', 'symbol': 'tiara', 'in_': <pyorient.otypes.OrientBinaryObject object at 0x0000027A0CB35F28>}\n",
      "{'out_': <pyorient.otypes.OrientBinaryObject object at 0x0000027A0CB35B38>, 'in_': <pyorient.otypes.OrientBinaryObject object at 0x0000027A0CB35A90>, 'name': 'Héra', 'symbol': 'tiara'}\n",
      "{'in_': <pyorient.otypes.OrientBinaryObject object at 0x0000027A0CB5C9B0>, 'name': 'Arès', 'symbol': 'weapons'}\n",
      "{'in_': <pyorient.otypes.OrientBinaryObject object at 0x0000027A0CB65518>, 'name': 'Arès', 'symbol': 'weapons'}\n",
      "{'in_': <pyorient.otypes.OrientBinaryObject object at 0x0000027A0CB65048>, 'name': 'Athena', 'symbol': 'helmet'}\n",
      "{'name': 'Athena', 'symbol': 'helmet', 'in_': <pyorient.otypes.OrientBinaryObject object at 0x0000027A0CB54208>}\n",
      "{'name': 'Poséidon', 'symbol': 'trident', 'in_': <pyorient.otypes.OrientBinaryObject object at 0x0000027A0CB545C0>, 'out_': <pyorient.otypes.OrientBinaryObject object at 0x0000027A0CB545F8>}\n",
      "{'out_': <pyorient.otypes.OrientBinaryObject object at 0x0000027A0CB54518>, 'in_': <pyorient.otypes.OrientBinaryObject object at 0x0000027A0CB54470>, 'name': 'Poséidon', 'symbol': 'trident'}\n",
      "{'out_': <pyorient.otypes.OrientBinaryObject object at 0x0000027A0CB54828>, 'name': 'Héra', 'symbol': 'tiara', 'in_': <pyorient.otypes.OrientBinaryObject object at 0x0000027A0CB54710>}\n",
      "{'out_': <pyorient.otypes.OrientBinaryObject object at 0x0000027A0CB54780>, 'in_': <pyorient.otypes.OrientBinaryObject object at 0x0000027A0CB54B38>, 'name': 'Héra', 'symbol': 'tiara'}\n",
      "{'in_': <pyorient.otypes.OrientBinaryObject object at 0x0000027A0CB54940>, 'name': 'Arès', 'symbol': 'weapons'}\n",
      "{'in_': <pyorient.otypes.OrientBinaryObject object at 0x0000027A0CB54C50>, 'name': 'Arès', 'symbol': 'weapons'}\n",
      "{'in_': <pyorient.otypes.OrientBinaryObject object at 0x0000027A0CB54DD8>, 'name': 'Athena', 'symbol': 'helmet'}\n",
      "{'name': 'Athena', 'symbol': 'helmet', 'in_': <pyorient.otypes.OrientBinaryObject object at 0x0000027A0CB460B8>}\n"
     ]
    }
   ],
   "source": [
    "# Définition de la requête\n",
    "request = client.command(\"SELECT EXPAND(out()) FROM V WHERE name = 'Zeus'\")\n",
    "\n",
    "# Affichage du résultat\n",
    "for vertex in request:\n",
    "    print(vertex.oRecordData)"
   ]
  },
  {
   "cell_type": "markdown",
   "metadata": {},
   "source": [
    "**Q:** Display all vertices which got a father (the vertices which are the destination of an arc whose kind attribute is father).\n",
    "\n",
    "_Hint: You can notice that we use the field `in` the arc, and not the function `in()` which applies to vertices._"
   ]
  },
  {
   "cell_type": "code",
   "execution_count": 40,
   "metadata": {},
   "outputs": [
    {
     "name": "stdout",
     "output_type": "stream",
     "text": [
      "{'name': 'Athena', 'symbol': 'helmet', 'in_': <pyorient.otypes.OrientBinaryObject object at 0x0000027A0CB35390>}\n",
      "{'in_': <pyorient.otypes.OrientBinaryObject object at 0x0000027A0CB35780>, 'name': 'Arès', 'symbol': 'weapons'}\n",
      "{'in_': <pyorient.otypes.OrientBinaryObject object at 0x0000027A0CB355F8>, 'name': 'Athena', 'symbol': 'helmet'}\n",
      "{'in_': <pyorient.otypes.OrientBinaryObject object at 0x0000027A0CB35908>, 'name': 'Arès', 'symbol': 'weapons'}\n"
     ]
    }
   ],
   "source": [
    "# Définition de la requête\n",
    "query = \"SELECT FROM V WHERE @rid IN (SELECT in FROM E WHERE kind = 'father')\"\n",
    "request = client.command(query)\n",
    "\n",
    "# Affichage du résultat\n",
    "for vertex in request:\n",
    "    print(vertex.oRecordData)"
   ]
  },
  {
   "cell_type": "markdown",
   "metadata": {},
   "source": [
    "**Q:** As in SQL, the operator `in` used in a clause `where` allows to restrict the possible values with an embedded query _(where ... in (select ...))_. \n",
    "\n",
    "Display the mothers, by displaying the vertices where an outgoing arc is part of the arcs where kind is a mother."
   ]
  },
  {
   "cell_type": "code",
   "execution_count": 41,
   "metadata": {},
   "outputs": [
    {
     "name": "stdout",
     "output_type": "stream",
     "text": [
      "{'out_': <pyorient.otypes.OrientBinaryObject object at 0x0000027A0CB653C8>, 'in_': <pyorient.otypes.OrientBinaryObject object at 0x0000027A0CB65D68>, 'name': 'Héra', 'symbol': 'tiara'}\n",
      "{'out_': <pyorient.otypes.OrientBinaryObject object at 0x0000027A0CB54048>, 'name': 'Héra', 'symbol': 'tiara', 'in_': <pyorient.otypes.OrientBinaryObject object at 0x0000027A0CB540B8>}\n"
     ]
    }
   ],
   "source": [
    "# Définition de la requête\n",
    "query = \"SELECT FROM V WHERE @rid IN (SELECT out FROM E WHERE kind = 'mother')\"\n",
    "request = client.command(query)\n",
    "\n",
    "# Affichage du résultat\n",
    "for vertex in request:\n",
    "    print(vertex.oRecordData)"
   ]
  },
  {
   "cell_type": "markdown",
   "metadata": {},
   "source": [
    "**Q:** Display the brothers and sisters of Zeus (the destination summits of an arc whose kind is sibling and whose original summit is Zeus)."
   ]
  },
  {
   "cell_type": "code",
   "execution_count": 45,
   "metadata": {},
   "outputs": [
    {
     "ename": "PyOrientSQLParsingException",
     "evalue": "com.orientechnologies.orient.core.sql.OCommandSQLParsingException - Error parsing query:\nSELECT FROM V WHERE @rid IN SELECT in FROM E WHERE out = (SELECT FROM V WHERE name = 'Zeus') AND kind = 'sibling'\n                       ^\nEncountered \"\" at line 1, column 21.\nWas expecting one of:\n    \r\n\tDB name=\"gods\"",
     "output_type": "error",
     "traceback": [
      "\u001b[1;31m---------------------------------------------------------------------------\u001b[0m",
      "\u001b[1;31mPyOrientSQLParsingException\u001b[0m               Traceback (most recent call last)",
      "\u001b[1;32m~\\AppData\\Local\\Temp\\ipykernel_16008\\938225074.py\u001b[0m in \u001b[0;36m<module>\u001b[1;34m\u001b[0m\n\u001b[0;32m      1\u001b[0m \u001b[1;31m# Définition de la requête\u001b[0m\u001b[1;33m\u001b[0m\u001b[1;33m\u001b[0m\u001b[1;33m\u001b[0m\u001b[0m\n\u001b[0;32m      2\u001b[0m \u001b[0mquery\u001b[0m \u001b[1;33m=\u001b[0m \u001b[1;34m\"SELECT FROM V WHERE @rid IN SELECT in FROM E WHERE out = (SELECT FROM V WHERE name = 'Zeus') AND kind = 'sibling'\"\u001b[0m\u001b[1;33m\u001b[0m\u001b[1;33m\u001b[0m\u001b[0m\n\u001b[1;32m----> 3\u001b[1;33m \u001b[0mrequest\u001b[0m \u001b[1;33m=\u001b[0m \u001b[0mclient\u001b[0m\u001b[1;33m.\u001b[0m\u001b[0mcommand\u001b[0m\u001b[1;33m(\u001b[0m\u001b[0mquery\u001b[0m\u001b[1;33m)\u001b[0m\u001b[1;33m\u001b[0m\u001b[1;33m\u001b[0m\u001b[0m\n\u001b[0m\u001b[0;32m      4\u001b[0m \u001b[1;33m\u001b[0m\u001b[0m\n\u001b[0;32m      5\u001b[0m \u001b[1;31m# Affichage du résultat\u001b[0m\u001b[1;33m\u001b[0m\u001b[1;33m\u001b[0m\u001b[1;33m\u001b[0m\u001b[0m\n",
      "\u001b[1;32mc:\\Users\\hugoc\\anaconda3\\envs\\nosql\\lib\\site-packages\\pyorient\\orient.py\u001b[0m in \u001b[0;36mcommand\u001b[1;34m(self, *args)\u001b[0m\n\u001b[0;32m    460\u001b[0m     \u001b[1;32mdef\u001b[0m \u001b[0mcommand\u001b[0m\u001b[1;33m(\u001b[0m\u001b[0mself\u001b[0m\u001b[1;33m,\u001b[0m \u001b[1;33m*\u001b[0m\u001b[0margs\u001b[0m\u001b[1;33m)\u001b[0m\u001b[1;33m:\u001b[0m\u001b[1;33m\u001b[0m\u001b[1;33m\u001b[0m\u001b[0m\n\u001b[0;32m    461\u001b[0m         \u001b[1;32mreturn\u001b[0m \u001b[0mself\u001b[0m\u001b[1;33m.\u001b[0m\u001b[0mget_message\u001b[0m\u001b[1;33m(\u001b[0m\u001b[1;34m\"CommandMessage\"\u001b[0m\u001b[1;33m)\u001b[0m\u001b[0;31m \u001b[0m\u001b[0;31m\\\u001b[0m\u001b[1;33m\u001b[0m\u001b[1;33m\u001b[0m\u001b[0m\n\u001b[1;32m--> 462\u001b[1;33m             \u001b[1;33m.\u001b[0m\u001b[0mprepare\u001b[0m\u001b[1;33m(\u001b[0m\u001b[1;33m(\u001b[0m \u001b[0mQUERY_CMD\u001b[0m\u001b[1;33m,\u001b[0m \u001b[1;33m)\u001b[0m \u001b[1;33m+\u001b[0m \u001b[0margs\u001b[0m\u001b[1;33m)\u001b[0m\u001b[1;33m.\u001b[0m\u001b[0msend\u001b[0m\u001b[1;33m(\u001b[0m\u001b[1;33m)\u001b[0m\u001b[1;33m.\u001b[0m\u001b[0mfetch_response\u001b[0m\u001b[1;33m(\u001b[0m\u001b[1;33m)\u001b[0m\u001b[1;33m\u001b[0m\u001b[1;33m\u001b[0m\u001b[0m\n\u001b[0m\u001b[0;32m    463\u001b[0m \u001b[1;33m\u001b[0m\u001b[0m\n\u001b[0;32m    464\u001b[0m     \u001b[1;32mdef\u001b[0m \u001b[0mbatch\u001b[0m\u001b[1;33m(\u001b[0m\u001b[0mself\u001b[0m\u001b[1;33m,\u001b[0m \u001b[1;33m*\u001b[0m\u001b[0margs\u001b[0m\u001b[1;33m)\u001b[0m\u001b[1;33m:\u001b[0m\u001b[1;33m\u001b[0m\u001b[1;33m\u001b[0m\u001b[0m\n",
      "\u001b[1;32mc:\\Users\\hugoc\\anaconda3\\envs\\nosql\\lib\\site-packages\\pyorient\\messages\\commands.py\u001b[0m in \u001b[0;36mfetch_response\u001b[1;34m(self)\u001b[0m\n\u001b[0;32m    142\u001b[0m \u001b[1;33m\u001b[0m\u001b[0m\n\u001b[0;32m    143\u001b[0m         \u001b[1;31m# decode header only\u001b[0m\u001b[1;33m\u001b[0m\u001b[1;33m\u001b[0m\u001b[1;33m\u001b[0m\u001b[0m\n\u001b[1;32m--> 144\u001b[1;33m         \u001b[0msuper\u001b[0m\u001b[1;33m(\u001b[0m \u001b[0mCommandMessage\u001b[0m\u001b[1;33m,\u001b[0m \u001b[0mself\u001b[0m \u001b[1;33m)\u001b[0m\u001b[1;33m.\u001b[0m\u001b[0mfetch_response\u001b[0m\u001b[1;33m(\u001b[0m\u001b[1;33m)\u001b[0m\u001b[1;33m\u001b[0m\u001b[1;33m\u001b[0m\u001b[0m\n\u001b[0m\u001b[0;32m    145\u001b[0m \u001b[1;33m\u001b[0m\u001b[0m\n\u001b[0;32m    146\u001b[0m         \u001b[1;32mif\u001b[0m \u001b[0mself\u001b[0m\u001b[1;33m.\u001b[0m\u001b[0m_command_type\u001b[0m \u001b[1;33m==\u001b[0m \u001b[0mQUERY_ASYNC\u001b[0m\u001b[1;33m:\u001b[0m\u001b[1;33m\u001b[0m\u001b[1;33m\u001b[0m\u001b[0m\n",
      "\u001b[1;32mc:\\Users\\hugoc\\anaconda3\\envs\\nosql\\lib\\site-packages\\pyorient\\messages\\base.py\u001b[0m in \u001b[0;36mfetch_response\u001b[1;34m(self, *_continue)\u001b[0m\n\u001b[0;32m    263\u001b[0m         \u001b[1;31m# already fetched, get last results as cache info\u001b[0m\u001b[1;33m\u001b[0m\u001b[1;33m\u001b[0m\u001b[1;33m\u001b[0m\u001b[0m\n\u001b[0;32m    264\u001b[0m         \u001b[1;32melif\u001b[0m \u001b[0mlen\u001b[0m\u001b[1;33m(\u001b[0m\u001b[0mself\u001b[0m\u001b[1;33m.\u001b[0m\u001b[0m_body\u001b[0m\u001b[1;33m)\u001b[0m \u001b[1;32mis\u001b[0m \u001b[1;36m0\u001b[0m\u001b[1;33m:\u001b[0m\u001b[1;33m\u001b[0m\u001b[1;33m\u001b[0m\u001b[0m\n\u001b[1;32m--> 265\u001b[1;33m             \u001b[0mself\u001b[0m\u001b[1;33m.\u001b[0m\u001b[0m_decode_all\u001b[0m\u001b[1;33m(\u001b[0m\u001b[1;33m)\u001b[0m\u001b[1;33m\u001b[0m\u001b[1;33m\u001b[0m\u001b[0m\n\u001b[0m\u001b[0;32m    266\u001b[0m             \u001b[0mself\u001b[0m\u001b[1;33m.\u001b[0m\u001b[0mdump_streams\u001b[0m\u001b[1;33m(\u001b[0m\u001b[1;33m)\u001b[0m\u001b[1;33m\u001b[0m\u001b[1;33m\u001b[0m\u001b[0m\n\u001b[0;32m    267\u001b[0m         \u001b[1;32mreturn\u001b[0m \u001b[0mself\u001b[0m\u001b[1;33m.\u001b[0m\u001b[0m_body\u001b[0m\u001b[1;33m\u001b[0m\u001b[1;33m\u001b[0m\u001b[0m\n",
      "\u001b[1;32mc:\\Users\\hugoc\\anaconda3\\envs\\nosql\\lib\\site-packages\\pyorient\\messages\\base.py\u001b[0m in \u001b[0;36m_decode_all\u001b[1;34m(self)\u001b[0m\n\u001b[0;32m    247\u001b[0m \u001b[1;33m\u001b[0m\u001b[0m\n\u001b[0;32m    248\u001b[0m     \u001b[1;32mdef\u001b[0m \u001b[0m_decode_all\u001b[0m\u001b[1;33m(\u001b[0m\u001b[0mself\u001b[0m\u001b[1;33m)\u001b[0m\u001b[1;33m:\u001b[0m\u001b[1;33m\u001b[0m\u001b[1;33m\u001b[0m\u001b[0m\n\u001b[1;32m--> 249\u001b[1;33m         \u001b[0mself\u001b[0m\u001b[1;33m.\u001b[0m\u001b[0m_decode_header\u001b[0m\u001b[1;33m(\u001b[0m\u001b[1;33m)\u001b[0m\u001b[1;33m\u001b[0m\u001b[1;33m\u001b[0m\u001b[0m\n\u001b[0m\u001b[0;32m    250\u001b[0m         \u001b[0mself\u001b[0m\u001b[1;33m.\u001b[0m\u001b[0m_decode_body\u001b[0m\u001b[1;33m(\u001b[0m\u001b[1;33m)\u001b[0m\u001b[1;33m\u001b[0m\u001b[1;33m\u001b[0m\u001b[0m\n\u001b[0;32m    251\u001b[0m \u001b[1;33m\u001b[0m\u001b[0m\n",
      "\u001b[1;32mc:\\Users\\hugoc\\anaconda3\\envs\\nosql\\lib\\site-packages\\pyorient\\messages\\base.py\u001b[0m in \u001b[0;36m_decode_header\u001b[1;34m(self)\u001b[0m\n\u001b[0;32m    180\u001b[0m             raise PyOrientCommandException(\n\u001b[0;32m    181\u001b[0m                 \u001b[0mexception_class\u001b[0m\u001b[1;33m.\u001b[0m\u001b[0mdecode\u001b[0m\u001b[1;33m(\u001b[0m \u001b[1;34m'utf8'\u001b[0m \u001b[1;33m)\u001b[0m\u001b[1;33m,\u001b[0m\u001b[1;33m\u001b[0m\u001b[1;33m\u001b[0m\u001b[0m\n\u001b[1;32m--> 182\u001b[1;33m                 \u001b[1;33m[\u001b[0m \u001b[0mexception_message\u001b[0m\u001b[1;33m.\u001b[0m\u001b[0mdecode\u001b[0m\u001b[1;33m(\u001b[0m \u001b[1;34m'utf8'\u001b[0m \u001b[1;33m)\u001b[0m \u001b[1;33m]\u001b[0m\u001b[1;33m\u001b[0m\u001b[1;33m\u001b[0m\u001b[0m\n\u001b[0m\u001b[0;32m    183\u001b[0m             )\n\u001b[0;32m    184\u001b[0m \u001b[1;33m\u001b[0m\u001b[0m\n",
      "\u001b[1;31mPyOrientSQLParsingException\u001b[0m: com.orientechnologies.orient.core.sql.OCommandSQLParsingException - Error parsing query:\nSELECT FROM V WHERE @rid IN SELECT in FROM E WHERE out = (SELECT FROM V WHERE name = 'Zeus') AND kind = 'sibling'\n                       ^\nEncountered \"\" at line 1, column 21.\nWas expecting one of:\n    \r\n\tDB name=\"gods\""
     ]
    }
   ],
   "source": [
    "# Définition de la requête\n",
    "query = \"SELECT FROM V WHERE @rid IN (SELECT in FROM E WHERE out = (SELECT FROM V WHERE name = 'Zeus') AND kind = 'sibling')\"\n",
    "request = client.command(query)\n",
    "\n",
    "# Affichage du résultat\n",
    "for vertex in request:\n",
    "    print(vertex.oRecordData)"
   ]
  },
  {
   "cell_type": "markdown",
   "metadata": {},
   "source": [
    "## Modeling a Product Recommendation System"
   ]
  },
  {
   "cell_type": "markdown",
   "metadata": {},
   "source": [
    "You are currently modeling the data of a product recommendation system with OrientDB.\n",
    "\n",
    "The main purpose of such a system is to answer the question \"which products were purchased by their people who purchased product X? »\n",
    "\n",
    "Purchased products have only one name field. They are purchased by people who have a nickname.\n",
    "\n",
    "When a person buys a product, the date of purchase is stored. \n",
    "\n",
    "Instead of working with \"anonymous\" vertices and arcs, you will use classes. The `create class` command allows you to create custom classes.\n",
    "\n",
    "The vertex classes must extend V, the arc classes must extend E."
   ]
  },
  {
   "cell_type": "markdown",
   "metadata": {},
   "source": [
    "**Q:** Create an `eCommerce` database, and the necessary classes to model the system.\n",
    "\n",
    "PS : you can view all classes in the database with :\n",
    "\n",
    "```python\n",
    "for name in client.command(\"SELECT name FROM (SELECT expand(classes) FROM metadata:schema)\"):\n",
    "    print(name)\n",
    "```"
   ]
  },
  {
   "cell_type": "code",
   "execution_count": null,
   "metadata": {},
   "outputs": [],
   "source": []
  },
  {
   "cell_type": "markdown",
   "metadata": {},
   "source": [
    "**Q:** Create the following products: `spaghetti`, `bolognese sauce`, `cheese`, `apple`."
   ]
  },
  {
   "cell_type": "code",
   "execution_count": null,
   "metadata": {},
   "outputs": [],
   "source": []
  },
  {
   "cell_type": "markdown",
   "metadata": {},
   "source": [
    "**Q:** Create the following people: `peter`, `meredith`."
   ]
  },
  {
   "cell_type": "code",
   "execution_count": null,
   "metadata": {},
   "outputs": [],
   "source": []
  },
  {
   "cell_type": "markdown",
   "metadata": {},
   "source": [
    "**Q:** Create the following purchases: \n",
    "- peter > spaghetti + cheese on 20/01/2016 \n",
    "- meredith > cheese + apple + bolognese sauce on 22/01/2016\n",
    "- peter > spaghetti + bolognese sauce on 27/01/2016\n"
   ]
  },
  {
   "cell_type": "code",
   "execution_count": null,
   "metadata": {},
   "outputs": [],
   "source": []
  },
  {
   "cell_type": "markdown",
   "metadata": {},
   "source": [
    "**Q:** Who bought Bolognese sauce?"
   ]
  },
  {
   "cell_type": "code",
   "execution_count": null,
   "metadata": {},
   "outputs": [],
   "source": []
  },
  {
   "cell_type": "markdown",
   "metadata": {},
   "source": [
    "**Q:** It is possible to link the `out` and `in` navigation functions. What products are purchased with Bolognese sauce? "
   ]
  },
  {
   "cell_type": "code",
   "execution_count": null,
   "metadata": {},
   "outputs": [],
   "source": []
  },
  {
   "cell_type": "markdown",
   "metadata": {},
   "source": [
    "## Postquisites"
   ]
  },
  {
   "cell_type": "markdown",
   "metadata": {},
   "source": [
    "Since we create databases in memory, they get destroyed on server shutdown."
   ]
  }
 ],
 "metadata": {
  "kernelspec": {
   "display_name": "nosql",
   "language": "python",
   "name": "python3"
  },
  "language_info": {
   "codemirror_mode": {
    "name": "ipython",
    "version": 3
   },
   "file_extension": ".py",
   "mimetype": "text/x-python",
   "name": "python",
   "nbconvert_exporter": "python",
   "pygments_lexer": "ipython3",
   "version": "3.7.1"
  }
 },
 "nbformat": 4,
 "nbformat_minor": 2
}
