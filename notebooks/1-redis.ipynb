{
 "cells": [
  {
   "cell_type": "markdown",
   "metadata": {},
   "source": [
    "# Redis tutorial"
   ]
  },
  {
   "cell_type": "markdown",
   "metadata": {},
   "source": [
    "## Prerequisites"
   ]
  },
  {
   "cell_type": "markdown",
   "metadata": {},
   "source": [
    "### Documentation\n",
    "\n",
    "You will find all documentation for :\n",
    "* [Redis commands](https://redis.io/commands)\n",
    "* [Redis python client](https://redis-py.readthedocs.io/en/latest/)\n",
    "\n",
    "Though the tutorial asks you to use Redis commands, they all have an equivalent in the Python client library."
   ]
  },
  {
   "cell_type": "markdown",
   "metadata": {},
   "source": [
    "### Import libraries"
   ]
  },
  {
   "cell_type": "code",
   "execution_count": 41,
   "metadata": {},
   "outputs": [],
   "source": [
    "import redis"
   ]
  },
  {
   "cell_type": "code",
   "execution_count": 42,
   "metadata": {},
   "outputs": [],
   "source": [
    "r = redis.Redis(host='localhost', port=6379)"
   ]
  },
  {
   "cell_type": "code",
   "execution_count": 43,
   "metadata": {},
   "outputs": [
    {
     "name": "stdout",
     "output_type": "stream",
     "text": [
      "b'bar'\n"
     ]
    }
   ],
   "source": [
    "r.set('foo', 'bar')\n",
    "value = r.get('foo')\n",
    "print(value)"
   ]
  },
  {
   "cell_type": "markdown",
   "metadata": {},
   "source": [
    "You can launch a terminal aside, connect to your server with a Redis client and check that the value is still present :\n",
    "\n",
    "```bash\n",
    "vagrant@nosql:~$ redis-cli\n",
    "127.0.0.1:6379> get foo\n",
    "\"bar\"\n",
    "```"
   ]
  },
  {
   "cell_type": "markdown",
   "metadata": {},
   "source": [
    "## I. Quick start"
   ]
  },
  {
   "cell_type": "markdown",
   "metadata": {},
   "source": [
    "### Strings and numbers"
   ]
  },
  {
   "cell_type": "markdown",
   "metadata": {},
   "source": [
    "**Q** : Store the string `hello world` in key `greetings` with a `SET` command. Then use a `GET` command to retrieve it."
   ]
  },
  {
   "cell_type": "code",
   "execution_count": 44,
   "metadata": {},
   "outputs": [
    {
     "name": "stdout",
     "output_type": "stream",
     "text": [
      "b'hello world'\n"
     ]
    }
   ],
   "source": [
    "# Stockage du message \"hello world\" dans la clé \"greetings\"\n",
    "r.set('greetings', 'hello world')\n",
    "\n",
    "# Récupération du message stocké dans la clé \"greetings\"\n",
    "value = r.get('greetings')\n",
    "\n",
    "# Affichage du message\n",
    "print(value)"
   ]
  },
  {
   "cell_type": "markdown",
   "metadata": {},
   "source": [
    "**Q** : Create a `connections` key with value 0. Find the `INCR` command to increment its value, then display it. \n",
    "\n",
    "Try to increment the value for `greetings`."
   ]
  },
  {
   "cell_type": "code",
   "execution_count": 45,
   "metadata": {},
   "outputs": [
    {
     "name": "stdout",
     "output_type": "stream",
     "text": [
      "b'1'\n",
      "Erreur lors de l'incrémentation de 'greetings': value is not an integer or out of range\n"
     ]
    }
   ],
   "source": [
    "# Création d'une nouvelle clé \"connections\" avec la valeur 0\n",
    "r.set('connections', 0)\n",
    "\n",
    "# Incrémentation de la valeur de la clé \"connections\"\n",
    "r.incr('connections')\n",
    "\n",
    "# Récupération de la valeur de la clé \"connections\"\n",
    "connections_value = r.get('connections')\n",
    "\n",
    "# Affichage de la valeur de la clé \"connections\"\n",
    "print(connections_value)\n",
    "\n",
    "# Test de l'incrémentation de la clé \"greetings\"\n",
    "try:\n",
    "    r.incr('greetings')\n",
    "except redis.RedisError as e:\n",
    "    print(\"Erreur lors de l'incrémentation de 'greetings':\", e)"
   ]
  },
  {
   "cell_type": "markdown",
   "metadata": {},
   "source": [
    "### Lists"
   ]
  },
  {
   "cell_type": "markdown",
   "metadata": {},
   "source": [
    "**Q** : Create a `colors` list with strings `red`, `black` and `blue`, using the `RPUSH` command."
   ]
  },
  {
   "cell_type": "code",
   "execution_count": 46,
   "metadata": {},
   "outputs": [
    {
     "data": {
      "text/plain": [
       "6"
      ]
     },
     "execution_count": 46,
     "metadata": {},
     "output_type": "execute_result"
    }
   ],
   "source": [
    "# Création d'une clé \"colors\" contenant une liste de couleurs\n",
    "r.rpush('colors', 'red', 'black', 'blue')\n",
    "\n"
   ]
  },
  {
   "cell_type": "markdown",
   "metadata": {},
   "source": [
    "**Q** : Display the second element of the list with `LINDEX`"
   ]
  },
  {
   "cell_type": "code",
   "execution_count": 47,
   "metadata": {},
   "outputs": [
    {
     "name": "stdout",
     "output_type": "stream",
     "text": [
      "b'black'\n"
     ]
    }
   ],
   "source": [
    "# Affichage du second élément de la liste de couleurs\n",
    "second_color = r.lindex('colors', 1)\n",
    "\n",
    "# Affichage du second élément de la liste de couleurs\n",
    "print(second_color)"
   ]
  },
  {
   "cell_type": "markdown",
   "metadata": {},
   "source": [
    "**Q** : Display the full list with `LRANGE`"
   ]
  },
  {
   "cell_type": "code",
   "execution_count": 48,
   "metadata": {},
   "outputs": [
    {
     "name": "stdout",
     "output_type": "stream",
     "text": [
      "[b'red', b'black', b'blue', b'red', b'black', b'blue']\n"
     ]
    }
   ],
   "source": [
    "# Récupération de la liste de couleurs\n",
    "colors = r.lrange('colors', 0, -1)\n",
    "\n",
    "# Affichage de la liste de couleurs\n",
    "print(colors)"
   ]
  },
  {
   "cell_type": "markdown",
   "metadata": {},
   "source": [
    "### Using sets"
   ]
  },
  {
   "cell_type": "markdown",
   "metadata": {},
   "source": [
    "**Q** : Create a `nosql` set containing values `redis`, `mongodb` and `orientdb`, using the `SADD` command."
   ]
  },
  {
   "cell_type": "code",
   "execution_count": 49,
   "metadata": {},
   "outputs": [
    {
     "data": {
      "text/plain": [
       "0"
      ]
     },
     "execution_count": 49,
     "metadata": {},
     "output_type": "execute_result"
    }
   ],
   "source": [
    "# Création d'une clé \"nosql\" \n",
    "r.sadd('nosql', 'redis', 'mongodb', 'orientdb')"
   ]
  },
  {
   "cell_type": "markdown",
   "metadata": {},
   "source": [
    "**Q** : Test if `mysql` is inside the set, using `SISMEMBER`"
   ]
  },
  {
   "cell_type": "code",
   "execution_count": 50,
   "metadata": {},
   "outputs": [
    {
     "name": "stdout",
     "output_type": "stream",
     "text": [
      "0\n"
     ]
    }
   ],
   "source": [
    "# Test si la valeur \"mysql\" est dans la clé \"nosql\"\n",
    "is_mysql_in_set = r.sismember('nosql', 'mysql')\n",
    "\n",
    "# Affichage du résultat\n",
    "print(is_mysql_in_set)"
   ]
  },
  {
   "cell_type": "markdown",
   "metadata": {},
   "source": [
    "**Q** : Add `hbase` to the set with `SADD`, then display all elements of the set with `SMEMBERS`. Try to add `redis` again and see what happens."
   ]
  },
  {
   "cell_type": "code",
   "execution_count": 51,
   "metadata": {},
   "outputs": [
    {
     "name": "stdout",
     "output_type": "stream",
     "text": [
      "{b'orientdb', b'mongodb', b'redis', b'hbase'}\n"
     ]
    }
   ],
   "source": [
    "# Ajout de la valeur \"hbase\" à la clé \"nosql\"\n",
    "r.sadd('nosql', 'hbase')\n",
    "\n",
    "# Récupération de la liste des valeurs de la clé \"nosql\"\n",
    "nosql = r.smembers('nosql')\n",
    "\n",
    "# Affichage des résultats\n",
    "print(nosql)"
   ]
  },
  {
   "cell_type": "code",
   "execution_count": 52,
   "metadata": {},
   "outputs": [
    {
     "name": "stdout",
     "output_type": "stream",
     "text": [
      "{b'orientdb', b'mongodb', b'redis', b'hbase'}\n"
     ]
    }
   ],
   "source": [
    "# Réajout de la valeur \"redis\" à la clé \"nosql\"\n",
    "add_redis_result = r.sadd('nosql', 'redis')\n",
    "\n",
    "# Récupération de la liste des valeurs de la clé \"nosql\"\n",
    "nosql = r.smembers('nosql')\n",
    "\n",
    "# Affichage des résultats\n",
    "print(nosql)"
   ]
  },
  {
   "cell_type": "markdown",
   "metadata": {},
   "source": [
    "### Using sorted sets\n",
    "\n",
    "Sorted Sets are similar to Redis Sets with the unique feature of values stored in a set. The difference is, every member of a Sorted Set is associated with a score, that is used in order to take the sorted set ordered, from the smallest to the greatest score."
   ]
  },
  {
   "cell_type": "markdown",
   "metadata": {},
   "source": [
    "**Q** : Using `ZADD`, create a sorted set `top14` with the following entries :\n",
    "\n",
    "```\n",
    "score city\n",
    "10 Agen \n",
    "33 Bordeaux \n",
    "32 Brive \n",
    "29 Castres \n",
    "38 Clermont \n",
    "24 Grenoble \n",
    "26 La Rochelle \n",
    "32 Montpellier \n",
    "14 Oyonnax \n",
    "20 Pau \n",
    "40 Racing \n",
    "22 Stade Français \n",
    "36 Toulon \n",
    "36 Toulouse\n",
    "```"
   ]
  },
  {
   "cell_type": "code",
   "execution_count": 53,
   "metadata": {},
   "outputs": [
    {
     "name": "stdout",
     "output_type": "stream",
     "text": [
      "[(b'Agen', 10.0), (b'Oyonnax', 14.0), (b'Pau', 20.0), (b'Stade Fran\\xc3\\xa7ais', 22.0), (b'Grenoble', 24.0), (b'La Rochelle', 26.0), (b'Castres', 29.0), (b'Brive', 32.0), (b'Montpellier', 32.0), (b'Bordeaux', 33.0), (b'Toulon', 36.0), (b'Toulouse', 36.0), (b'Clermont', 38.0), (b'Racing', 40.0)]\n"
     ]
    }
   ],
   "source": [
    "# Création d'une clé \"top14\" contenant les équipes du Top 14 et leur score\n",
    "r.zadd('top14', {\n",
    "    'Agen': 10,\n",
    "    'Bordeaux': 33,\n",
    "    'Brive': 32,\n",
    "    'Castres': 29,\n",
    "    'Clermont': 38,\n",
    "    'Grenoble': 24,\n",
    "    'La Rochelle': 26,\n",
    "    'Montpellier': 32,\n",
    "    'Oyonnax': 14,\n",
    "    'Pau': 20,\n",
    "    'Racing': 40,\n",
    "    'Stade Français': 22,\n",
    "    'Toulon': 36,\n",
    "    'Toulouse': 36\n",
    "})\n",
    "\n",
    "# Récupération des équipes du Top 14 et de leur score\n",
    "top14 = r.zrange('top14', 0, -1, withscores=True)\n",
    "\n",
    "# Affichage des résultats\n",
    "print(top14)"
   ]
  },
  {
   "cell_type": "markdown",
   "metadata": {},
   "source": [
    "**Q** : Fetch the score for `Toulon` with `ZSCORE`, and its ranking with `ZRANK`."
   ]
  },
  {
   "cell_type": "code",
   "execution_count": 54,
   "metadata": {},
   "outputs": [
    {
     "name": "stdout",
     "output_type": "stream",
     "text": [
      "Score de Toulon : 36.0\n",
      "Rang de Toulon : 10\n"
     ]
    },
    {
     "data": {
      "text/plain": [
       "(None, None)"
      ]
     },
     "execution_count": 54,
     "metadata": {},
     "output_type": "execute_result"
    }
   ],
   "source": [
    "# Récupération du score de Toulon\n",
    "toulon_score = r.zscore('top14', 'Toulon')\n",
    "\n",
    "# Récupération du rang de Toulon\n",
    "toulon_rank = r.zrank('top14', 'Toulon')\n",
    "\n",
    "# Affichage du score de Toulon\n",
    "print(f\"Score de Toulon : {toulon_score}\"), print(f\"Rang de Toulon : {toulon_rank}\")"
   ]
  },
  {
   "cell_type": "markdown",
   "metadata": {},
   "source": [
    "**Q** : `ZRANK` starts at 0 and scores are sorted from lowest to highest, so we should use the `ZREVRANK` for a true ranking of our cities."
   ]
  },
  {
   "cell_type": "code",
   "execution_count": 55,
   "metadata": {},
   "outputs": [
    {
     "name": "stdout",
     "output_type": "stream",
     "text": [
      "Vrai rang de Toulon : 3\n"
     ]
    }
   ],
   "source": [
    "# Récupération du vrai rang de Toulon\n",
    "toulon_rank = r.zrevrank('top14', 'Toulon')\n",
    "\n",
    "print(f\"Vrai rang de Toulon : {toulon_rank}\")"
   ]
  },
  {
   "cell_type": "markdown",
   "metadata": {},
   "source": [
    "**Q** : Find the commands to display :\n",
    "* the 3 best teams\n",
    "* teams with more than 35 points"
   ]
  },
  {
   "cell_type": "code",
   "execution_count": 56,
   "metadata": {},
   "outputs": [
    {
     "name": "stdout",
     "output_type": "stream",
     "text": [
      "Les 3 meilleures équipes : [(b'Racing', 40.0), (b'Clermont', 38.0), (b'Toulouse', 36.0)]\n",
      "Équipes avec plus de 35 points : [(b'Toulon', 36.0), (b'Toulouse', 36.0), (b'Clermont', 38.0), (b'Racing', 40.0)]\n"
     ]
    },
    {
     "data": {
      "text/plain": [
       "(None, None)"
      ]
     },
     "execution_count": 56,
     "metadata": {},
     "output_type": "execute_result"
    }
   ],
   "source": [
    "# Obtention des 3 meilleures équipes\n",
    "top_3 = r.zrevrange('top14', 0, 2, withscores=True)\n",
    "\n",
    "# Obtention des équipes avec plus de 35 points\n",
    "above_35 = r.zrangebyscore('top14', 35, '+inf', withscores=True)\n",
    "\n",
    "# Affichage des résultats\n",
    "print(\"Les 3 meilleures équipes :\", top_3), print(\"Équipes avec plus de 35 points :\", above_35)"
   ]
  },
  {
   "cell_type": "markdown",
   "metadata": {},
   "source": [
    "### Using dictionaries"
   ]
  },
  {
   "cell_type": "markdown",
   "metadata": {},
   "source": [
    "**Q** : Create a dictionary `user:1` with `HMSET` with properties `id (1), name (Jean), age (22)`. Display it with `HGETALL`"
   ]
  },
  {
   "cell_type": "code",
   "execution_count": 57,
   "metadata": {},
   "outputs": [
    {
     "name": "stdout",
     "output_type": "stream",
     "text": [
      "{b'id': b'1', b'name': b'Jean', b'age': b'22', b'city': b'Lyon'}\n"
     ]
    },
    {
     "name": "stderr",
     "output_type": "stream",
     "text": [
      "c:\\Users\\hugoc\\anaconda3\\envs\\nosql\\lib\\site-packages\\ipykernel_launcher.py:2: DeprecationWarning: Redis.hmset() is deprecated. Use Redis.hset() instead.\n",
      "  \n"
     ]
    }
   ],
   "source": [
    "# Création d'une clé \"user:1\" contenant les informations d'un utilisateur\n",
    "r.hmset('user:1', {'id': 1, 'name': 'Jean', 'age': 22})\n",
    "\n",
    "# Récupération des informations de l'utilisateur\n",
    "user = r.hgetall('user:1')\n",
    "\n",
    "# Affichage des informations de l'utilisateur\n",
    "print(user)"
   ]
  },
  {
   "cell_type": "markdown",
   "metadata": {},
   "source": [
    "**Q** : Add a `city (Lyon)` property and rename the user from `Jean` to `Paul`."
   ]
  },
  {
   "cell_type": "code",
   "execution_count": 58,
   "metadata": {},
   "outputs": [
    {
     "name": "stdout",
     "output_type": "stream",
     "text": [
      "{b'id': b'1', b'name': b'Paul', b'age': b'22', b'city': b'Lyon'}\n"
     ]
    }
   ],
   "source": [
    "# Mise à jour de la ville de l'utilisateur\n",
    "r.hset('user:1', 'city', 'Lyon')\n",
    "\n",
    "# Mise à jour de nom de l'utilisateur\n",
    "r.hset('user:1', 'name', 'Paul')\n",
    "\n",
    "# Récupération des informations de l'utilisateur\n",
    "user = r.hgetall('user:1')\n",
    "\n",
    "# Affichage des informations de l'utilisateur\n",
    "print(user)"
   ]
  },
  {
   "cell_type": "markdown",
   "metadata": {},
   "source": [
    "## Modelling a query cache with Redis\n",
    "\n",
    "You are modeling data from a REST query cache system with Redis.\n",
    "A request is identified by the http method and its url (without the protocol).\n",
    "The content of the request is stored as it is to be returned on demand."
   ]
  },
  {
   "cell_type": "markdown",
   "metadata": {},
   "source": [
    "**Q** : Insert a PUT request in the cache on http://my-api.fr/user/10 whose answer is {\"id\": 10, \"name\": \"jean\"}"
   ]
  },
  {
   "cell_type": "code",
   "execution_count": 59,
   "metadata": {},
   "outputs": [
    {
     "name": "stdout",
     "output_type": "stream",
     "text": [
      "{'id': 10, 'name': 'jean'}\n"
     ]
    }
   ],
   "source": [
    "import json\n",
    "\n",
    "# Création de la requête\n",
    "put_response = {\"id\": 10, \"name\": \"jean\"}\n",
    "\n",
    "# Insertion de la réponse dans le cache\n",
    "r.set('http://my-api.fr/user/10', json.dumps(put_response))\n",
    "\n",
    "# Récupération de la réponse depuis le cache\n",
    "cached_response = r.get('http://my-api.fr/user/10')\n",
    "\n",
    "# Affichage de la réponse\n",
    "print(json.loads(cached_response))"
   ]
  },
  {
   "cell_type": "markdown",
   "metadata": {},
   "source": [
    "**Q** : Insert a GET request in the cache on http://my-api.fr/user?size=2 whose answer is[{\"id\": 10, \"name\": jean}, {\"id\": 11, \"name\": \"Claire\"}]"
   ]
  },
  {
   "cell_type": "code",
   "execution_count": 60,
   "metadata": {},
   "outputs": [
    {
     "name": "stdout",
     "output_type": "stream",
     "text": [
      "[{'id': 10, 'name': 'jean'}, {'id': 11, 'name': 'Claire'}]\n"
     ]
    }
   ],
   "source": [
    "# Création de la requête\n",
    "get_response = [\n",
    "    {\"id\": 10, \"name\": \"jean\"},\n",
    "    {\"id\": 11, \"name\": \"Claire\"}\n",
    "]\n",
    "\n",
    "# Insertion de la réponse dans le cache\n",
    "r.set('http://my-api.fr/user?size=2', json.dumps(get_response))\n",
    "\n",
    "# Récupération de la réponse depuis le cache\n",
    "cached_response = r.get('http://my-api.fr/user?size=2')\n",
    "\n",
    "# Affichage de la réponse\n",
    "print(json.loads(cached_response))"
   ]
  },
  {
   "cell_type": "markdown",
   "metadata": {},
   "source": [
    "**Q** : Create a set of cache request keys."
   ]
  },
  {
   "cell_type": "code",
   "execution_count": 61,
   "metadata": {},
   "outputs": [
    {
     "name": "stdout",
     "output_type": "stream",
     "text": [
      "{b'http://my-api.fr/user/10', b'http://my-api.fr/user/11', b'http://my-api.fr/user?size=2'}\n"
     ]
    }
   ],
   "source": [
    "# Création de la requête\n",
    "cache_keys = [\n",
    "    'http://my-api.fr/user/10',\n",
    "    'http://my-api.fr/user?size=2',\n",
    "    'http://my-api.fr/user/11'\n",
    "]\n",
    "\n",
    "# Ajout des clés dans un ensemble\n",
    "r.sadd('cache_keys', *cache_keys)\n",
    "\n",
    "# Récupération des clés du cache\n",
    "all_cache_keys = r.smembers('cache_keys')\n",
    "\n",
    "# Affichage des clés du cache\n",
    "print(all_cache_keys)"
   ]
  },
  {
   "cell_type": "markdown",
   "metadata": {},
   "source": [
    "**Q** : Check if the GET request on http: //http://my-api.fr/user"
   ]
  },
  {
   "cell_type": "code",
   "execution_count": 62,
   "metadata": {},
   "outputs": [
    {
     "name": "stdout",
     "output_type": "stream",
     "text": [
      "La clé 'http://my-api.fr/user' est dans le set 'cache_keys' : 0\n"
     ]
    }
   ],
   "source": [
    "# Paramétrage de la clé à vérifier\n",
    "key_to_check = 'http://my-api.fr/user'\n",
    "\n",
    "# Vérification de la présence de la clé dans l'ensemble\n",
    "is_member = r.sismember('cache_keys', key_to_check)\n",
    "\n",
    "# Affichage du résultat\n",
    "print(f\"La clé '{key_to_check}' est dans le set 'cache_keys' : {is_member}\")"
   ]
  },
  {
   "cell_type": "markdown",
   "metadata": {},
   "source": [
    "**Q** : Delete the PUT request on http://my-api.fr/user/10 from the cache."
   ]
  },
  {
   "cell_type": "code",
   "execution_count": 63,
   "metadata": {},
   "outputs": [
    {
     "name": "stdout",
     "output_type": "stream",
     "text": [
      "Nombre de clés supprimées : 1\n"
     ]
    }
   ],
   "source": [
    "# Paramétrage de la clé à supprimer\n",
    "deleted_count = r.delete('http://my-api.fr/user/10')\n",
    "\n",
    "# Affichage du nombre de clés supprimées\n",
    "print(f\"Nombre de clés supprimées : {deleted_count}\")"
   ]
  },
  {
   "cell_type": "markdown",
   "metadata": {},
   "source": [
    "## Postquisites\n",
    "\n",
    "The folloinwg command removes all data from your Redis cluster."
   ]
  },
  {
   "cell_type": "code",
   "execution_count": 64,
   "metadata": {},
   "outputs": [
    {
     "name": "stderr",
     "output_type": "stream",
     "text": [
      "'redis-cli' n'est pas reconnu en tant que commande interne\n",
      "ou externe, un programme ex�cutable ou un fichier de commandes.\n"
     ]
    }
   ],
   "source": [
    "!redis-cli flushall"
   ]
  }
 ],
 "metadata": {
  "kernelspec": {
   "display_name": "nosql",
   "language": "python",
   "name": "python3"
  },
  "language_info": {
   "codemirror_mode": {
    "name": "ipython",
    "version": 3
   },
   "file_extension": ".py",
   "mimetype": "text/x-python",
   "name": "python",
   "nbconvert_exporter": "python",
   "pygments_lexer": "ipython3",
   "version": "3.7.1"
  }
 },
 "nbformat": 4,
 "nbformat_minor": 2
}
